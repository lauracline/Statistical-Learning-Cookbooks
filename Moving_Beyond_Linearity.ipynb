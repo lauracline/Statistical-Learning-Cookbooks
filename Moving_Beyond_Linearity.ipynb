{
  "nbformat": 4,
  "nbformat_minor": 0,
  "metadata": {
    "colab": {
      "name": "Moving Beyond Linearity",
      "provenance": [],
      "authorship_tag": "ABX9TyM4U+8ImdPAwK3PkUjZNCgY",
      "include_colab_link": true
    },
    "kernelspec": {
      "name": "python3",
      "display_name": "Python 3"
    },
    "language_info": {
      "name": "python"
    }
  },
  "cells": [
    {
      "cell_type": "markdown",
      "metadata": {
        "id": "view-in-github",
        "colab_type": "text"
      },
      "source": [
        "<a href=\"https://colab.research.google.com/github/lauracline/Statistical-Learning-Cookbooks/blob/master/Moving_Beyond_Linearity.ipynb\" target=\"_parent\"><img src=\"https://colab.research.google.com/assets/colab-badge.svg\" alt=\"Open In Colab\"/></a>"
      ]
    },
    {
      "cell_type": "markdown",
      "metadata": {
        "id": "4bG63cCv_J6W"
      },
      "source": [
        "# **Moving Beyond Linearity** \n",
        "\n",
        "Linearity is always an approximation, need more flexible models. "
      ]
    },
    {
      "cell_type": "markdown",
      "metadata": {
        "id": "3NMWs5Cl_SIn"
      },
      "source": [
        "## **Polynomial Regression**\n",
        "\n",
        "Extend linear model with polynomial terms. It's still a linear model but can model non-linear data. Usually don't use polynomial terms higher than degree 3 or 4. "
      ]
    },
    {
      "cell_type": "markdown",
      "metadata": {
        "id": "TDivix9t_evs"
      },
      "source": [
        "## **Step Functions**\n",
        "\n",
        "Cut X into K different regions and fit a constant to each region. The model reduces to $\\hat{y} = \\beta_{0} + \\beta_{k}$ where k is the kth region. $\\beta_{0}$ is just the estimate for y (the mean) in the region before the first cut point. Can use same approach for logistic regression to geet a flat probability estimate for each region. "
      ]
    },
    {
      "cell_type": "markdown",
      "metadata": {
        "id": "Y2yDLMOE_3mp"
      },
      "source": [
        "## **Basis Functions**\n",
        "\n",
        "Polynomial terms and step function are both types of basis functions. A basis function is a function that transforms X. For polynomial regression, that is simply raising X to a power and for step functions this is transforming X into 0 or 1 based on whether X is in a region or not (indicator variable). Wavelets and fourier series are also basis functions. "
      ]
    },
    {
      "cell_type": "markdown",
      "metadata": {
        "id": "4cAYaf85ALdO"
      },
      "source": [
        "## **Regression Splines**\n",
        "\n",
        "Combining piecewise functions and polynomial regression. \n",
        "\n",
        "### **Piecewise Polynomials**\n",
        "\n",
        "Fit low degree polynomials over different regions of X. The place where the region ends are called knots. Without constraints the many pieces will not connect - be continuous. \n",
        "\n",
        "### **Splines**\n",
        "\n",
        "Piecewise polynomials with constraints that the curves be continuouse and smooth - meaning both first and second derivatives must match at the knot. Fitting a spline turns out to be surprisingly simpler than it seems. We don't have to fit a 3 degree polynomial for each region. By smartly choosing basis functions, we can use least squares to solve for all the coefficients. We use the truncated power basis function which is $h(x, \\zeta) = (x - \\zeta)^{3}, x > \\zeta$ and 0 otherwise. Each $\\zeta$ is a knot. \n",
        "\n",
        "The equation to send to least squares is $\\hat{y} = \\beta_{0} + \\beta_{1}X + \\beta_{2}X^{2} + \\beta_{3}X^{3} + h(x, \\zeta_{k}) +...$ where we have K truncated power transformations for a total of K + 4 predictors. \n",
        "\n",
        "### **How to Choose K**\n",
        "\n",
        "Cross validation \n",
        "\n",
        "### **Splines Vs. Polynomial Regression**\n",
        "\n",
        "Splines generally do better. A complex fit can still be fit well with a 3 degree spline, but it could take a very high degree polynomial to do the same, but with a worst variance. "
      ]
    },
    {
      "cell_type": "markdown",
      "metadata": {
        "id": "Gmj-u9kuBruo"
      },
      "source": [
        "## **Smoothing Splines**\n",
        "\n",
        "Finding a function that minimizes RSS but that is 'smooth'. Smoothness here is defined as having a relatively stable derivative. Ise a penalty term on the sum (integral) of the squared second derivative. We want smoothness (i.e., stable second derivative). \n",
        "\n",
        "The function that minimizes this error is a natural cubic spline with knots at each unique value of x but with shrunken parameter estimates due to the penalty term. The smoothing parameter is very important to control variance. Choose smoothing parameter with cross-validation. "
      ]
    },
    {
      "cell_type": "markdown",
      "metadata": {
        "id": "8B9cTd_GCIlz"
      },
      "source": [
        "## **Local Regression**\n",
        "\n",
        "Fits a new regression line to each point by using the nearest neighbours of that point. It uses weighted least squares, weighting points at the boundary and beyond 0 and points in the boundary a decreasing function of its distance to the point. Usually, small degree polynomials are fit to these local points. Need to choose weight function and span of points. The larger span of points the smoother the function you will get. \n",
        "\n",
        "Can even due to local regression with pairs or more of variables, but because of the curse of dimensionality, there might not be enough neighbours. "
      ]
    },
    {
      "cell_type": "markdown",
      "metadata": {
        "id": "I-cQmgO3CuR9"
      },
      "source": [
        "## **General Additive Models**\n",
        "\n",
        "The above models all relate to single variable predictions. GAMs simply add different linear models above (like the one above) for different variables in the model, allowing for multivariate regression/classification. Each variable gets its own model and is added together. Each own model is a building block for a GAM. "
      ]
    },
    {
      "cell_type": "markdown",
      "metadata": {
        "id": "zKhA2uelDDDN"
      },
      "source": [
        "## **Lab: Polynomial Regression and Step Functions**"
      ]
    },
    {
      "cell_type": "code",
      "metadata": {
        "id": "wlchMQoR_Hv2"
      },
      "source": [
        "import pandas as pd\n",
        "import numpy as np"
      ],
      "execution_count": 1,
      "outputs": []
    },
    {
      "cell_type": "code",
      "metadata": {
        "id": "Rihuf0f_DQy2"
      },
      "source": [
        "wage = pd.read_csv(\"https://raw.githubusercontent.com/emredjan/ISL-python/master/datasets/Wage.csv\")"
      ],
      "execution_count": 2,
      "outputs": []
    },
    {
      "cell_type": "code",
      "metadata": {
        "id": "w9MjgCvVDd2a"
      },
      "source": [
        "# Use sklearn to get regression coefficients \n",
        "from sklearn.preprocessing import PolynomialFeatures\n",
        "from sklearn.linear_model import LinearRegression"
      ],
      "execution_count": 3,
      "outputs": []
    },
    {
      "cell_type": "code",
      "metadata": {
        "id": "7jT3fPpmDtbp"
      },
      "source": [
        "poly = PolynomialFeatures(degree=4, include_bias=False)"
      ],
      "execution_count": 4,
      "outputs": []
    },
    {
      "cell_type": "code",
      "metadata": {
        "id": "sKnzKXBzD0EV"
      },
      "source": [
        "X = wage[['age']]\n",
        "y = wage['wage']"
      ],
      "execution_count": 5,
      "outputs": []
    },
    {
      "cell_type": "code",
      "metadata": {
        "id": "iAp_4sWID37R"
      },
      "source": [
        "model = LinearRegression()"
      ],
      "execution_count": 6,
      "outputs": []
    },
    {
      "cell_type": "code",
      "metadata": {
        "colab": {
          "base_uri": "https://localhost:8080/"
        },
        "id": "75_e36dmD54l",
        "outputId": "073b24c5-9028-4691-c01f-61210ce1396e"
      },
      "source": [
        "model.fit(poly.fit_transform(X), y)"
      ],
      "execution_count": 7,
      "outputs": [
        {
          "output_type": "execute_result",
          "data": {
            "text/plain": [
              "LinearRegression(copy_X=True, fit_intercept=True, n_jobs=None, normalize=False)"
            ]
          },
          "metadata": {},
          "execution_count": 7
        }
      ]
    },
    {
      "cell_type": "code",
      "metadata": {
        "colab": {
          "base_uri": "https://localhost:8080/"
        },
        "id": "OVnJsLjWEB1F",
        "outputId": "8f1dee1a-705b-437e-8e16-b1a18db258f4"
      },
      "source": [
        "# Coefficients are the same as in ISLR\n",
        "model.intercept_, model.coef_"
      ],
      "execution_count": 8,
      "outputs": [
        {
          "output_type": "execute_result",
          "data": {
            "text/plain": [
              "(-184.1541797729099,\n",
              " array([ 2.12455205e+01, -5.63859313e-01,  6.81068771e-03, -3.20383037e-05]))"
            ]
          },
          "metadata": {},
          "execution_count": 8
        }
      ]
    },
    {
      "cell_type": "markdown",
      "metadata": {
        "id": "p3UoDBf1EKU-"
      },
      "source": [
        "### **Standard Error in Scikit-Learn**\n",
        "\n",
        "Sklearn doesn't supply the standard error, so you will have to write the formula yourself or use statsmodels. "
      ]
    },
    {
      "cell_type": "code",
      "metadata": {
        "id": "BgYrWX3cEHwC",
        "colab": {
          "base_uri": "https://localhost:8080/"
        },
        "outputId": "adcd9cc5-5159-488b-c90a-8464089c1dd3"
      },
      "source": [
        "import statsmodels.formula.api as smf"
      ],
      "execution_count": 9,
      "outputs": [
        {
          "output_type": "stream",
          "name": "stderr",
          "text": [
            "/usr/local/lib/python3.7/dist-packages/statsmodels/tools/_testing.py:19: FutureWarning: pandas.util.testing is deprecated. Use the functions in the public API at pandas.testing instead.\n",
            "  import pandas.util.testing as tm\n"
          ]
        }
      ]
    },
    {
      "cell_type": "code",
      "metadata": {
        "id": "L_j_faGAEXFV"
      },
      "source": [
        "results = smf.ols('wage ~ age + np.power(age,2) + np.power(age, 3) + np.power(age,4)', data=wage).fit()"
      ],
      "execution_count": 10,
      "outputs": []
    },
    {
      "cell_type": "code",
      "metadata": {
        "colab": {
          "base_uri": "https://localhost:8080/",
          "height": 541
        },
        "id": "Wp4UK3WQEjJJ",
        "outputId": "8152552a-5e4b-4a87-ba02-b7d8cd476037"
      },
      "source": [
        "results.summary()"
      ],
      "execution_count": 11,
      "outputs": [
        {
          "output_type": "execute_result",
          "data": {
            "text/html": [
              "<table class=\"simpletable\">\n",
              "<caption>OLS Regression Results</caption>\n",
              "<tr>\n",
              "  <th>Dep. Variable:</th>          <td>wage</td>       <th>  R-squared:         </th> <td>   0.086</td> \n",
              "</tr>\n",
              "<tr>\n",
              "  <th>Model:</th>                   <td>OLS</td>       <th>  Adj. R-squared:    </th> <td>   0.085</td> \n",
              "</tr>\n",
              "<tr>\n",
              "  <th>Method:</th>             <td>Least Squares</td>  <th>  F-statistic:       </th> <td>   70.69</td> \n",
              "</tr>\n",
              "<tr>\n",
              "  <th>Date:</th>             <td>Sat, 30 Oct 2021</td> <th>  Prob (F-statistic):</th> <td>2.77e-57</td> \n",
              "</tr>\n",
              "<tr>\n",
              "  <th>Time:</th>                 <td>12:44:45</td>     <th>  Log-Likelihood:    </th> <td> -15315.</td> \n",
              "</tr>\n",
              "<tr>\n",
              "  <th>No. Observations:</th>      <td>  3000</td>      <th>  AIC:               </th> <td>3.064e+04</td>\n",
              "</tr>\n",
              "<tr>\n",
              "  <th>Df Residuals:</th>          <td>  2995</td>      <th>  BIC:               </th> <td>3.067e+04</td>\n",
              "</tr>\n",
              "<tr>\n",
              "  <th>Df Model:</th>              <td>     4</td>      <th>                     </th>     <td> </td>    \n",
              "</tr>\n",
              "<tr>\n",
              "  <th>Covariance Type:</th>      <td>nonrobust</td>    <th>                     </th>     <td> </td>    \n",
              "</tr>\n",
              "</table>\n",
              "<table class=\"simpletable\">\n",
              "<tr>\n",
              "          <td></td>            <th>coef</th>     <th>std err</th>      <th>t</th>      <th>P>|t|</th>  <th>[0.025</th>    <th>0.975]</th>  \n",
              "</tr>\n",
              "<tr>\n",
              "  <th>Intercept</th>        <td> -184.1542</td> <td>   60.040</td> <td>   -3.067</td> <td> 0.002</td> <td> -301.879</td> <td>  -66.430</td>\n",
              "</tr>\n",
              "<tr>\n",
              "  <th>age</th>              <td>   21.2455</td> <td>    5.887</td> <td>    3.609</td> <td> 0.000</td> <td>    9.703</td> <td>   32.788</td>\n",
              "</tr>\n",
              "<tr>\n",
              "  <th>np.power(age, 2)</th> <td>   -0.5639</td> <td>    0.206</td> <td>   -2.736</td> <td> 0.006</td> <td>   -0.968</td> <td>   -0.160</td>\n",
              "</tr>\n",
              "<tr>\n",
              "  <th>np.power(age, 3)</th> <td>    0.0068</td> <td>    0.003</td> <td>    2.221</td> <td> 0.026</td> <td>    0.001</td> <td>    0.013</td>\n",
              "</tr>\n",
              "<tr>\n",
              "  <th>np.power(age, 4)</th> <td>-3.204e-05</td> <td> 1.64e-05</td> <td>   -1.952</td> <td> 0.051</td> <td>-6.42e-05</td> <td> 1.45e-07</td>\n",
              "</tr>\n",
              "</table>\n",
              "<table class=\"simpletable\">\n",
              "<tr>\n",
              "  <th>Omnibus:</th>       <td>1097.594</td> <th>  Durbin-Watson:     </th> <td>   1.960</td>\n",
              "</tr>\n",
              "<tr>\n",
              "  <th>Prob(Omnibus):</th>  <td> 0.000</td>  <th>  Jarque-Bera (JB):  </th> <td>4965.521</td>\n",
              "</tr>\n",
              "<tr>\n",
              "  <th>Skew:</th>           <td> 1.722</td>  <th>  Prob(JB):          </th> <td>    0.00</td>\n",
              "</tr>\n",
              "<tr>\n",
              "  <th>Kurtosis:</th>       <td> 8.279</td>  <th>  Cond. No.          </th> <td>5.67e+08</td>\n",
              "</tr>\n",
              "</table><br/><br/>Warnings:<br/>[1] Standard Errors assume that the covariance matrix of the errors is correctly specified.<br/>[2] The condition number is large, 5.67e+08. This might indicate that there are<br/>strong multicollinearity or other numerical problems."
            ],
            "text/plain": [
              "<class 'statsmodels.iolib.summary.Summary'>\n",
              "\"\"\"\n",
              "                            OLS Regression Results                            \n",
              "==============================================================================\n",
              "Dep. Variable:                   wage   R-squared:                       0.086\n",
              "Model:                            OLS   Adj. R-squared:                  0.085\n",
              "Method:                 Least Squares   F-statistic:                     70.69\n",
              "Date:                Sat, 30 Oct 2021   Prob (F-statistic):           2.77e-57\n",
              "Time:                        12:44:45   Log-Likelihood:                -15315.\n",
              "No. Observations:                3000   AIC:                         3.064e+04\n",
              "Df Residuals:                    2995   BIC:                         3.067e+04\n",
              "Df Model:                           4                                         \n",
              "Covariance Type:            nonrobust                                         \n",
              "====================================================================================\n",
              "                       coef    std err          t      P>|t|      [0.025      0.975]\n",
              "------------------------------------------------------------------------------------\n",
              "Intercept         -184.1542     60.040     -3.067      0.002    -301.879     -66.430\n",
              "age                 21.2455      5.887      3.609      0.000       9.703      32.788\n",
              "np.power(age, 2)    -0.5639      0.206     -2.736      0.006      -0.968      -0.160\n",
              "np.power(age, 3)     0.0068      0.003      2.221      0.026       0.001       0.013\n",
              "np.power(age, 4) -3.204e-05   1.64e-05     -1.952      0.051   -6.42e-05    1.45e-07\n",
              "==============================================================================\n",
              "Omnibus:                     1097.594   Durbin-Watson:                   1.960\n",
              "Prob(Omnibus):                  0.000   Jarque-Bera (JB):             4965.521\n",
              "Skew:                           1.722   Prob(JB):                         0.00\n",
              "Kurtosis:                       8.279   Cond. No.                     5.67e+08\n",
              "==============================================================================\n",
              "\n",
              "Warnings:\n",
              "[1] Standard Errors assume that the covariance matrix of the errors is correctly specified.\n",
              "[2] The condition number is large, 5.67e+08. This might indicate that there are\n",
              "strong multicollinearity or other numerical problems.\n",
              "\"\"\""
            ]
          },
          "metadata": {},
          "execution_count": 11
        }
      ]
    },
    {
      "cell_type": "code",
      "metadata": {
        "colab": {
          "base_uri": "https://localhost:8080/"
        },
        "id": "oHjlk8YpEnXH",
        "outputId": "3ee9160f-7086-4fe5-f609-94ddfb2f3d79"
      },
      "source": [
        "results.bse"
      ],
      "execution_count": 12,
      "outputs": [
        {
          "output_type": "execute_result",
          "data": {
            "text/plain": [
              "Intercept           60.040377\n",
              "age                  5.886748\n",
              "np.power(age, 2)     0.206108\n",
              "np.power(age, 3)     0.003066\n",
              "np.power(age, 4)     0.000016\n",
              "dtype: float64"
            ]
          },
          "metadata": {},
          "execution_count": 12
        }
      ]
    },
    {
      "cell_type": "code",
      "metadata": {
        "colab": {
          "base_uri": "https://localhost:8080/",
          "height": 204
        },
        "id": "L7cb5uBsEpSo",
        "outputId": "304c8d98-a687-4155-dbbf-3a30a5ebfd49"
      },
      "source": [
        "results.conf_int()"
      ],
      "execution_count": 13,
      "outputs": [
        {
          "output_type": "execute_result",
          "data": {
            "text/html": [
              "<div>\n",
              "<style scoped>\n",
              "    .dataframe tbody tr th:only-of-type {\n",
              "        vertical-align: middle;\n",
              "    }\n",
              "\n",
              "    .dataframe tbody tr th {\n",
              "        vertical-align: top;\n",
              "    }\n",
              "\n",
              "    .dataframe thead th {\n",
              "        text-align: right;\n",
              "    }\n",
              "</style>\n",
              "<table border=\"1\" class=\"dataframe\">\n",
              "  <thead>\n",
              "    <tr style=\"text-align: right;\">\n",
              "      <th></th>\n",
              "      <th>0</th>\n",
              "      <th>1</th>\n",
              "    </tr>\n",
              "  </thead>\n",
              "  <tbody>\n",
              "    <tr>\n",
              "      <th>Intercept</th>\n",
              "      <td>-301.878732</td>\n",
              "      <td>-6.642963e+01</td>\n",
              "    </tr>\n",
              "    <tr>\n",
              "      <th>age</th>\n",
              "      <td>9.703041</td>\n",
              "      <td>3.278800e+01</td>\n",
              "    </tr>\n",
              "    <tr>\n",
              "      <th>np.power(age, 2)</th>\n",
              "      <td>-0.967987</td>\n",
              "      <td>-1.597312e-01</td>\n",
              "    </tr>\n",
              "    <tr>\n",
              "      <th>np.power(age, 3)</th>\n",
              "      <td>0.000799</td>\n",
              "      <td>1.282223e-02</td>\n",
              "    </tr>\n",
              "    <tr>\n",
              "      <th>np.power(age, 4)</th>\n",
              "      <td>-0.000064</td>\n",
              "      <td>1.447431e-07</td>\n",
              "    </tr>\n",
              "  </tbody>\n",
              "</table>\n",
              "</div>"
            ],
            "text/plain": [
              "                           0             1\n",
              "Intercept        -301.878732 -6.642963e+01\n",
              "age                 9.703041  3.278800e+01\n",
              "np.power(age, 2)   -0.967987 -1.597312e-01\n",
              "np.power(age, 3)    0.000799  1.282223e-02\n",
              "np.power(age, 4)   -0.000064  1.447431e-07"
            ]
          },
          "metadata": {},
          "execution_count": 13
        }
      ]
    },
    {
      "cell_type": "markdown",
      "metadata": {
        "id": "LRGLvxDkEsUl"
      },
      "source": [
        "### **Confidence Interval for the Mean**\n",
        "\n",
        "There are different confidence intervals for the mean (the regression line) and prediction. Prediction intervals are going to be much wider. The regression line will not wiggle around so much. "
      ]
    },
    {
      "cell_type": "code",
      "metadata": {
        "id": "YUtoummdE2vf"
      },
      "source": [
        "from statsmodels.stats.outliers_influence import summary_table"
      ],
      "execution_count": 14,
      "outputs": []
    },
    {
      "cell_type": "code",
      "metadata": {
        "id": "8lcits4OE7z1"
      },
      "source": [
        "st, data, ss2 = summary_table(results, alpha=0.05)"
      ],
      "execution_count": 15,
      "outputs": []
    },
    {
      "cell_type": "code",
      "metadata": {
        "id": "mVf3M873E_1F"
      },
      "source": [
        "fittedvalues = data[:,2]\n",
        "predict_mean_se = data[:,3]\n",
        "predict_mean_ci_low, predict_mean_ci_upp = data[:,4:6].T"
      ],
      "execution_count": 16,
      "outputs": []
    },
    {
      "cell_type": "code",
      "metadata": {
        "id": "O7MWnxxoFMgn"
      },
      "source": [
        "order = np.argsort(X.values.flatten())\n",
        "x_o = X.values.flatten()[order]"
      ],
      "execution_count": 17,
      "outputs": []
    },
    {
      "cell_type": "code",
      "metadata": {
        "id": "klbKoBkZFUg4"
      },
      "source": [
        "import matplotlib.pyplot as plt\n",
        "%matplotlib inline"
      ],
      "execution_count": 18,
      "outputs": []
    },
    {
      "cell_type": "code",
      "metadata": {
        "colab": {
          "base_uri": "https://localhost:8080/",
          "height": 500
        },
        "id": "ZsRzEuhsFaH3",
        "outputId": "6d81fe19-ba3f-4203-b74a-0afe0ebfa609"
      },
      "source": [
        "plt.figure(figsize=(10,8))\n",
        "plt.scatter(x_o, y[order])\n",
        "plt.plot(x_o, fittedvalues[order], 'r', lw=2)\n",
        "plt.plot(x_o, predict_mean_ci_low[order], 'r--', lw=2)\n",
        "plt.plot(x_o, predict_mean_ci_upp[order], 'r--', lw=2)"
      ],
      "execution_count": 19,
      "outputs": [
        {
          "output_type": "execute_result",
          "data": {
            "text/plain": [
              "[<matplotlib.lines.Line2D at 0x7ff8c3f72310>]"
            ]
          },
          "metadata": {},
          "execution_count": 19
        },
        {
          "output_type": "display_data",
          "data": {
            "image/png": "[encoded data removed]",
            "text/plain": [
              "<Figure size 720x576 with 1 Axes>"
            ]
          },
          "metadata": {
            "needs_background": "light"
          }
        }
      ]
    },
    {
      "cell_type": "code",
      "metadata": {
        "colab": {
          "base_uri": "https://localhost:8080/",
          "height": 541
        },
        "id": "qTcRI_h-FtHG",
        "outputId": "6d7dcae4-6139-4f4e-a77b-50500eb62e3d"
      },
      "source": [
        "# Which features are necessary\n",
        "smf.ols('wage ~ age + np.power(age, 2) + np.power(age,3) + np.power(age, 4)', data=wage).fit().summary()"
      ],
      "execution_count": 20,
      "outputs": [
        {
          "output_type": "execute_result",
          "data": {
            "text/html": [
              "<table class=\"simpletable\">\n",
              "<caption>OLS Regression Results</caption>\n",
              "<tr>\n",
              "  <th>Dep. Variable:</th>          <td>wage</td>       <th>  R-squared:         </th> <td>   0.086</td> \n",
              "</tr>\n",
              "<tr>\n",
              "  <th>Model:</th>                   <td>OLS</td>       <th>  Adj. R-squared:    </th> <td>   0.085</td> \n",
              "</tr>\n",
              "<tr>\n",
              "  <th>Method:</th>             <td>Least Squares</td>  <th>  F-statistic:       </th> <td>   70.69</td> \n",
              "</tr>\n",
              "<tr>\n",
              "  <th>Date:</th>             <td>Sat, 30 Oct 2021</td> <th>  Prob (F-statistic):</th> <td>2.77e-57</td> \n",
              "</tr>\n",
              "<tr>\n",
              "  <th>Time:</th>                 <td>12:45:04</td>     <th>  Log-Likelihood:    </th> <td> -15315.</td> \n",
              "</tr>\n",
              "<tr>\n",
              "  <th>No. Observations:</th>      <td>  3000</td>      <th>  AIC:               </th> <td>3.064e+04</td>\n",
              "</tr>\n",
              "<tr>\n",
              "  <th>Df Residuals:</th>          <td>  2995</td>      <th>  BIC:               </th> <td>3.067e+04</td>\n",
              "</tr>\n",
              "<tr>\n",
              "  <th>Df Model:</th>              <td>     4</td>      <th>                     </th>     <td> </td>    \n",
              "</tr>\n",
              "<tr>\n",
              "  <th>Covariance Type:</th>      <td>nonrobust</td>    <th>                     </th>     <td> </td>    \n",
              "</tr>\n",
              "</table>\n",
              "<table class=\"simpletable\">\n",
              "<tr>\n",
              "          <td></td>            <th>coef</th>     <th>std err</th>      <th>t</th>      <th>P>|t|</th>  <th>[0.025</th>    <th>0.975]</th>  \n",
              "</tr>\n",
              "<tr>\n",
              "  <th>Intercept</th>        <td> -184.1542</td> <td>   60.040</td> <td>   -3.067</td> <td> 0.002</td> <td> -301.879</td> <td>  -66.430</td>\n",
              "</tr>\n",
              "<tr>\n",
              "  <th>age</th>              <td>   21.2455</td> <td>    5.887</td> <td>    3.609</td> <td> 0.000</td> <td>    9.703</td> <td>   32.788</td>\n",
              "</tr>\n",
              "<tr>\n",
              "  <th>np.power(age, 2)</th> <td>   -0.5639</td> <td>    0.206</td> <td>   -2.736</td> <td> 0.006</td> <td>   -0.968</td> <td>   -0.160</td>\n",
              "</tr>\n",
              "<tr>\n",
              "  <th>np.power(age, 3)</th> <td>    0.0068</td> <td>    0.003</td> <td>    2.221</td> <td> 0.026</td> <td>    0.001</td> <td>    0.013</td>\n",
              "</tr>\n",
              "<tr>\n",
              "  <th>np.power(age, 4)</th> <td>-3.204e-05</td> <td> 1.64e-05</td> <td>   -1.952</td> <td> 0.051</td> <td>-6.42e-05</td> <td> 1.45e-07</td>\n",
              "</tr>\n",
              "</table>\n",
              "<table class=\"simpletable\">\n",
              "<tr>\n",
              "  <th>Omnibus:</th>       <td>1097.594</td> <th>  Durbin-Watson:     </th> <td>   1.960</td>\n",
              "</tr>\n",
              "<tr>\n",
              "  <th>Prob(Omnibus):</th>  <td> 0.000</td>  <th>  Jarque-Bera (JB):  </th> <td>4965.521</td>\n",
              "</tr>\n",
              "<tr>\n",
              "  <th>Skew:</th>           <td> 1.722</td>  <th>  Prob(JB):          </th> <td>    0.00</td>\n",
              "</tr>\n",
              "<tr>\n",
              "  <th>Kurtosis:</th>       <td> 8.279</td>  <th>  Cond. No.          </th> <td>5.67e+08</td>\n",
              "</tr>\n",
              "</table><br/><br/>Warnings:<br/>[1] Standard Errors assume that the covariance matrix of the errors is correctly specified.<br/>[2] The condition number is large, 5.67e+08. This might indicate that there are<br/>strong multicollinearity or other numerical problems."
            ],
            "text/plain": [
              "<class 'statsmodels.iolib.summary.Summary'>\n",
              "\"\"\"\n",
              "                            OLS Regression Results                            \n",
              "==============================================================================\n",
              "Dep. Variable:                   wage   R-squared:                       0.086\n",
              "Model:                            OLS   Adj. R-squared:                  0.085\n",
              "Method:                 Least Squares   F-statistic:                     70.69\n",
              "Date:                Sat, 30 Oct 2021   Prob (F-statistic):           2.77e-57\n",
              "Time:                        12:45:04   Log-Likelihood:                -15315.\n",
              "No. Observations:                3000   AIC:                         3.064e+04\n",
              "Df Residuals:                    2995   BIC:                         3.067e+04\n",
              "Df Model:                           4                                         \n",
              "Covariance Type:            nonrobust                                         \n",
              "====================================================================================\n",
              "                       coef    std err          t      P>|t|      [0.025      0.975]\n",
              "------------------------------------------------------------------------------------\n",
              "Intercept         -184.1542     60.040     -3.067      0.002    -301.879     -66.430\n",
              "age                 21.2455      5.887      3.609      0.000       9.703      32.788\n",
              "np.power(age, 2)    -0.5639      0.206     -2.736      0.006      -0.968      -0.160\n",
              "np.power(age, 3)     0.0068      0.003      2.221      0.026       0.001       0.013\n",
              "np.power(age, 4) -3.204e-05   1.64e-05     -1.952      0.051   -6.42e-05    1.45e-07\n",
              "==============================================================================\n",
              "Omnibus:                     1097.594   Durbin-Watson:                   1.960\n",
              "Prob(Omnibus):                  0.000   Jarque-Bera (JB):             4965.521\n",
              "Skew:                           1.722   Prob(JB):                         0.00\n",
              "Kurtosis:                       8.279   Cond. No.                     5.67e+08\n",
              "==============================================================================\n",
              "\n",
              "Warnings:\n",
              "[1] Standard Errors assume that the covariance matrix of the errors is correctly specified.\n",
              "[2] The condition number is large, 5.67e+08. This might indicate that there are\n",
              "strong multicollinearity or other numerical problems.\n",
              "\"\"\""
            ]
          },
          "metadata": {},
          "execution_count": 20
        }
      ]
    },
    {
      "cell_type": "code",
      "metadata": {
        "id": "b3iDkq0DF8AI"
      },
      "source": [
        "from statsmodels.stats.api import anova_lm"
      ],
      "execution_count": 21,
      "outputs": []
    },
    {
      "cell_type": "markdown",
      "metadata": {
        "id": "sQM996mfGAcn"
      },
      "source": [
        "### **Use Anova to Test Whether Each Additional Polynomial Term is Significant**\n",
        "\n",
        "Models must be nested here, meaning that mod2 must be a superset of mod1. "
      ]
    },
    {
      "cell_type": "code",
      "metadata": {
        "id": "avSXnd6iGJdr"
      },
      "source": [
        "mod1 = smf.ols('wage ~ age', data=wage).fit()\n",
        "mod2 = smf.ols('wage ~ age + np.power(age,2)', data=wage).fit()\n",
        "mod3 = smf.ols('wage ~ age + np.power(age,2) + np.power(age,3)', data=wage).fit()\n",
        "mod4 = smf.ols('wage ~ age + np.power(age,2) + np.power(age,3) + np.power(age,4)', data=wage).fit()\n",
        "mod5 = smf.ols('wage ~ age + np.power(age,2) + np.power(age,3) + np.power(age,4) + np.power(age,5)', data=wage).fit()"
      ],
      "execution_count": 22,
      "outputs": []
    },
    {
      "cell_type": "code",
      "metadata": {
        "colab": {
          "base_uri": "https://localhost:8080/",
          "height": 204
        },
        "id": "TaLT-WhvGj76",
        "outputId": "f15354d9-c541-4a04-8bf1-511007a3b994"
      },
      "source": [
        "# Same as ISLR\n",
        "# Polynomial terms 4 and 5 are not needed. p > 0.05\n",
        "anova_lm(mod1, mod2, mod3, mod4, mod5)"
      ],
      "execution_count": 23,
      "outputs": [
        {
          "output_type": "execute_result",
          "data": {
            "text/html": [
              "<div>\n",
              "<style scoped>\n",
              "    .dataframe tbody tr th:only-of-type {\n",
              "        vertical-align: middle;\n",
              "    }\n",
              "\n",
              "    .dataframe tbody tr th {\n",
              "        vertical-align: top;\n",
              "    }\n",
              "\n",
              "    .dataframe thead th {\n",
              "        text-align: right;\n",
              "    }\n",
              "</style>\n",
              "<table border=\"1\" class=\"dataframe\">\n",
              "  <thead>\n",
              "    <tr style=\"text-align: right;\">\n",
              "      <th></th>\n",
              "      <th>df_resid</th>\n",
              "      <th>ssr</th>\n",
              "      <th>df_diff</th>\n",
              "      <th>ss_diff</th>\n",
              "      <th>F</th>\n",
              "      <th>Pr(&gt;F)</th>\n",
              "    </tr>\n",
              "  </thead>\n",
              "  <tbody>\n",
              "    <tr>\n",
              "      <th>0</th>\n",
              "      <td>2998.0</td>\n",
              "      <td>5.022216e+06</td>\n",
              "      <td>0.0</td>\n",
              "      <td>NaN</td>\n",
              "      <td>NaN</td>\n",
              "      <td>NaN</td>\n",
              "    </tr>\n",
              "    <tr>\n",
              "      <th>1</th>\n",
              "      <td>2997.0</td>\n",
              "      <td>4.793430e+06</td>\n",
              "      <td>1.0</td>\n",
              "      <td>228786.010128</td>\n",
              "      <td>143.593107</td>\n",
              "      <td>2.363850e-32</td>\n",
              "    </tr>\n",
              "    <tr>\n",
              "      <th>2</th>\n",
              "      <td>2996.0</td>\n",
              "      <td>4.777674e+06</td>\n",
              "      <td>1.0</td>\n",
              "      <td>15755.693664</td>\n",
              "      <td>9.888756</td>\n",
              "      <td>1.679202e-03</td>\n",
              "    </tr>\n",
              "    <tr>\n",
              "      <th>3</th>\n",
              "      <td>2995.0</td>\n",
              "      <td>4.771604e+06</td>\n",
              "      <td>1.0</td>\n",
              "      <td>6070.152124</td>\n",
              "      <td>3.809813</td>\n",
              "      <td>5.104620e-02</td>\n",
              "    </tr>\n",
              "    <tr>\n",
              "      <th>4</th>\n",
              "      <td>2994.0</td>\n",
              "      <td>4.770322e+06</td>\n",
              "      <td>1.0</td>\n",
              "      <td>1282.563017</td>\n",
              "      <td>0.804976</td>\n",
              "      <td>3.696820e-01</td>\n",
              "    </tr>\n",
              "  </tbody>\n",
              "</table>\n",
              "</div>"
            ],
            "text/plain": [
              "   df_resid           ssr  df_diff        ss_diff           F        Pr(>F)\n",
              "0    2998.0  5.022216e+06      0.0            NaN         NaN           NaN\n",
              "1    2997.0  4.793430e+06      1.0  228786.010128  143.593107  2.363850e-32\n",
              "2    2996.0  4.777674e+06      1.0   15755.693664    9.888756  1.679202e-03\n",
              "3    2995.0  4.771604e+06      1.0    6070.152124    3.809813  5.104620e-02\n",
              "4    2994.0  4.770322e+06      1.0    1282.563017    0.804976  3.696820e-01"
            ]
          },
          "metadata": {},
          "execution_count": 23
        }
      ]
    },
    {
      "cell_type": "markdown",
      "metadata": {
        "id": "_OBbTYgjGyF7"
      },
      "source": [
        "### **Logistic Regression**\n",
        "\n",
        "Prediction of greater than $250,000 income. "
      ]
    },
    {
      "cell_type": "code",
      "metadata": {
        "id": "OwzwPdIuG4gO"
      },
      "source": [
        "wage['wage_250'] = (wage['wage'] > 250) * 1 "
      ],
      "execution_count": 24,
      "outputs": []
    },
    {
      "cell_type": "code",
      "metadata": {
        "colab": {
          "base_uri": "https://localhost:8080/"
        },
        "id": "fn6NMBM2G9Oz",
        "outputId": "65de614f-0ceb-4241-90bd-3cf5b69b4400"
      },
      "source": [
        "results = smf.logit('wage_250 ~ age + np.power(age,2) + np.power(age,3) + np.power(age,4)', data=wage).fit()"
      ],
      "execution_count": 25,
      "outputs": [
        {
          "output_type": "stream",
          "name": "stdout",
          "text": [
            "Optimization terminated successfully.\n",
            "         Current function value: 0.116870\n",
            "         Iterations 12\n"
          ]
        }
      ]
    },
    {
      "cell_type": "code",
      "metadata": {
        "colab": {
          "base_uri": "https://localhost:8080/",
          "height": 311
        },
        "id": "_s5Iqn9IHL3F",
        "outputId": "b88bd3e5-9793-4e78-87ea-9c82fb666637"
      },
      "source": [
        "results.summary()"
      ],
      "execution_count": 26,
      "outputs": [
        {
          "output_type": "execute_result",
          "data": {
            "text/html": [
              "<table class=\"simpletable\">\n",
              "<caption>Logit Regression Results</caption>\n",
              "<tr>\n",
              "  <th>Dep. Variable:</th>       <td>wage_250</td>     <th>  No. Observations:  </th>  <td>  3000</td>  \n",
              "</tr>\n",
              "<tr>\n",
              "  <th>Model:</th>                 <td>Logit</td>      <th>  Df Residuals:      </th>  <td>  2995</td>  \n",
              "</tr>\n",
              "<tr>\n",
              "  <th>Method:</th>                 <td>MLE</td>       <th>  Df Model:          </th>  <td>     4</td>  \n",
              "</tr>\n",
              "<tr>\n",
              "  <th>Date:</th>            <td>Sat, 30 Oct 2021</td> <th>  Pseudo R-squ.:     </th>  <td>0.04013</td> \n",
              "</tr>\n",
              "<tr>\n",
              "  <th>Time:</th>                <td>12:45:13</td>     <th>  Log-Likelihood:    </th> <td> -350.61</td> \n",
              "</tr>\n",
              "<tr>\n",
              "  <th>converged:</th>             <td>True</td>       <th>  LL-Null:           </th> <td> -365.27</td> \n",
              "</tr>\n",
              "<tr>\n",
              "  <th>Covariance Type:</th>     <td>nonrobust</td>    <th>  LLR p-value:       </th> <td>6.747e-06</td>\n",
              "</tr>\n",
              "</table>\n",
              "<table class=\"simpletable\">\n",
              "<tr>\n",
              "          <td></td>            <th>coef</th>     <th>std err</th>      <th>z</th>      <th>P>|z|</th>  <th>[0.025</th>    <th>0.975]</th>  \n",
              "</tr>\n",
              "<tr>\n",
              "  <th>Intercept</th>        <td> -109.5530</td> <td>   47.655</td> <td>   -2.299</td> <td> 0.022</td> <td> -202.956</td> <td>  -16.150</td>\n",
              "</tr>\n",
              "<tr>\n",
              "  <th>age</th>              <td>    8.9950</td> <td>    4.187</td> <td>    2.148</td> <td> 0.032</td> <td>    0.789</td> <td>   17.201</td>\n",
              "</tr>\n",
              "<tr>\n",
              "  <th>np.power(age, 2)</th> <td>   -0.2816</td> <td>    0.135</td> <td>   -2.081</td> <td> 0.037</td> <td>   -0.547</td> <td>   -0.016</td>\n",
              "</tr>\n",
              "<tr>\n",
              "  <th>np.power(age, 3)</th> <td>    0.0039</td> <td>    0.002</td> <td>    2.022</td> <td> 0.043</td> <td>    0.000</td> <td>    0.008</td>\n",
              "</tr>\n",
              "<tr>\n",
              "  <th>np.power(age, 4)</th> <td>-1.949e-05</td> <td> 9.91e-06</td> <td>   -1.966</td> <td> 0.049</td> <td>-3.89e-05</td> <td>-6.41e-08</td>\n",
              "</tr>\n",
              "</table>"
            ],
            "text/plain": [
              "<class 'statsmodels.iolib.summary.Summary'>\n",
              "\"\"\"\n",
              "                           Logit Regression Results                           \n",
              "==============================================================================\n",
              "Dep. Variable:               wage_250   No. Observations:                 3000\n",
              "Model:                          Logit   Df Residuals:                     2995\n",
              "Method:                           MLE   Df Model:                            4\n",
              "Date:                Sat, 30 Oct 2021   Pseudo R-squ.:                 0.04013\n",
              "Time:                        12:45:13   Log-Likelihood:                -350.61\n",
              "converged:                       True   LL-Null:                       -365.27\n",
              "Covariance Type:            nonrobust   LLR p-value:                 6.747e-06\n",
              "====================================================================================\n",
              "                       coef    std err          z      P>|z|      [0.025      0.975]\n",
              "------------------------------------------------------------------------------------\n",
              "Intercept         -109.5530     47.655     -2.299      0.022    -202.956     -16.150\n",
              "age                  8.9950      4.187      2.148      0.032       0.789      17.201\n",
              "np.power(age, 2)    -0.2816      0.135     -2.081      0.037      -0.547      -0.016\n",
              "np.power(age, 3)     0.0039      0.002      2.022      0.043       0.000       0.008\n",
              "np.power(age, 4) -1.949e-05   9.91e-06     -1.966      0.049   -3.89e-05   -6.41e-08\n",
              "====================================================================================\n",
              "\"\"\""
            ]
          },
          "metadata": {},
          "execution_count": 26
        }
      ]
    },
    {
      "cell_type": "code",
      "metadata": {
        "id": "4T2WEx_CHOaU"
      },
      "source": [
        "y_hat = np.exp(results.fittedvalues)\n",
        "y = wage['wage_250'].values\n",
        "x = X['age'].values\n",
        "x_mean = x.mean()\n",
        "n = len(y)"
      ],
      "execution_count": 27,
      "outputs": []
    },
    {
      "cell_type": "code",
      "metadata": {
        "id": "_b98MCsXIk3Z"
      },
      "source": [
        "sy = np.sqrt(np.sum((y - y_hat)**2) / (n - 2))\n",
        "sx = np.sum((x - x_mean)**2) / n\n",
        "x_s = (x - x_mean)**2"
      ],
      "execution_count": 28,
      "outputs": []
    },
    {
      "cell_type": "code",
      "metadata": {
        "id": "f-kUU96II2yN"
      },
      "source": [
        "sx = np.sum(x ** 2) - (x.sum() ** 2) / n"
      ],
      "execution_count": 29,
      "outputs": []
    },
    {
      "cell_type": "code",
      "metadata": {
        "id": "7sI-w_qOJAfx"
      },
      "source": [
        "err = sy * np.sqrt(1/n + x_s / x_s.sum())"
      ],
      "execution_count": 30,
      "outputs": []
    },
    {
      "cell_type": "code",
      "metadata": {
        "id": "noHjxf5ZJG8W"
      },
      "source": [
        "order = np.argsort(x)\n",
        "x_o = x[order]"
      ],
      "execution_count": 31,
      "outputs": []
    },
    {
      "cell_type": "code",
      "metadata": {
        "colab": {
          "base_uri": "https://localhost:8080/",
          "height": 504
        },
        "id": "LovcGpkKJK_k",
        "outputId": "ce8c0827-018d-44d8-c73e-a4a0356a63fd"
      },
      "source": [
        "plt.figure(figsize=(10,8))\n",
        "plt.scatter(x_o, y[order])\n",
        "plt.plot(x_o, y_hat[order], 'r', lw=2)\n",
        "plt.plot(x_o, y_hat[order] + 2 * err[order], 'r--', lw=2)\n",
        "plt.plot(x_o, y_hat[order] - 2 * err[order], 'r--', lw=2)\n",
        "plt.ylim(0, 0.07)"
      ],
      "execution_count": 32,
      "outputs": [
        {
          "output_type": "execute_result",
          "data": {
            "text/plain": [
              "(0.0, 0.07)"
            ]
          },
          "metadata": {},
          "execution_count": 32
        },
        {
          "output_type": "display_data",
          "data": {
            "image/png": "[encoded data removed]",
            "text/plain": [
              "<Figure size 720x576 with 1 Axes>"
            ]
          },
          "metadata": {
            "needs_background": "light"
          }
        }
      ]
    },
    {
      "cell_type": "markdown",
      "metadata": {
        "id": "9zzSCXaEK8iD"
      },
      "source": [
        "### **Step function**\n",
        "\n",
        "Use pd.cut"
      ]
    },
    {
      "cell_type": "code",
      "metadata": {
        "id": "nkA95gN9LM6p"
      },
      "source": [
        "results = smf.ols('wage ~ pd.cut(age,4)', data=wage).fit()"
      ],
      "execution_count": 33,
      "outputs": []
    },
    {
      "cell_type": "code",
      "metadata": {
        "colab": {
          "base_uri": "https://localhost:8080/",
          "height": 486
        },
        "id": "ND3irTUULarf",
        "outputId": "27375202-132d-4a20-cb1e-210a5b3437dc"
      },
      "source": [
        "results.summary()"
      ],
      "execution_count": 34,
      "outputs": [
        {
          "output_type": "execute_result",
          "data": {
            "text/html": [
              "<table class=\"simpletable\">\n",
              "<caption>OLS Regression Results</caption>\n",
              "<tr>\n",
              "  <th>Dep. Variable:</th>          <td>wage</td>       <th>  R-squared:         </th> <td>   0.062</td> \n",
              "</tr>\n",
              "<tr>\n",
              "  <th>Model:</th>                   <td>OLS</td>       <th>  Adj. R-squared:    </th> <td>   0.062</td> \n",
              "</tr>\n",
              "<tr>\n",
              "  <th>Method:</th>             <td>Least Squares</td>  <th>  F-statistic:       </th> <td>   66.58</td> \n",
              "</tr>\n",
              "<tr>\n",
              "  <th>Date:</th>             <td>Sat, 30 Oct 2021</td> <th>  Prob (F-statistic):</th> <td>1.13e-41</td> \n",
              "</tr>\n",
              "<tr>\n",
              "  <th>Time:</th>                 <td>12:45:21</td>     <th>  Log-Likelihood:    </th> <td> -15353.</td> \n",
              "</tr>\n",
              "<tr>\n",
              "  <th>No. Observations:</th>      <td>  3000</td>      <th>  AIC:               </th> <td>3.071e+04</td>\n",
              "</tr>\n",
              "<tr>\n",
              "  <th>Df Residuals:</th>          <td>  2996</td>      <th>  BIC:               </th> <td>3.074e+04</td>\n",
              "</tr>\n",
              "<tr>\n",
              "  <th>Df Model:</th>              <td>     3</td>      <th>                     </th>     <td> </td>    \n",
              "</tr>\n",
              "<tr>\n",
              "  <th>Covariance Type:</th>      <td>nonrobust</td>    <th>                     </th>     <td> </td>    \n",
              "</tr>\n",
              "</table>\n",
              "<table class=\"simpletable\">\n",
              "<tr>\n",
              "                             <td></td>                               <th>coef</th>     <th>std err</th>      <th>t</th>      <th>P>|t|</th>  <th>[0.025</th>    <th>0.975]</th>  \n",
              "</tr>\n",
              "<tr>\n",
              "  <th>Intercept</th>                                              <td>   94.1584</td> <td>    1.476</td> <td>   63.790</td> <td> 0.000</td> <td>   91.264</td> <td>   97.053</td>\n",
              "</tr>\n",
              "<tr>\n",
              "  <th>pd.cut(age, 4)[T.Interval(33.5, 49.0, closed='right')]</th> <td>   24.0535</td> <td>    1.829</td> <td>   13.148</td> <td> 0.000</td> <td>   20.466</td> <td>   27.641</td>\n",
              "</tr>\n",
              "<tr>\n",
              "  <th>pd.cut(age, 4)[T.Interval(49.0, 64.5, closed='right')]</th> <td>   23.6646</td> <td>    2.068</td> <td>   11.443</td> <td> 0.000</td> <td>   19.610</td> <td>   27.719</td>\n",
              "</tr>\n",
              "<tr>\n",
              "  <th>pd.cut(age, 4)[T.Interval(64.5, 80.0, closed='right')]</th> <td>    7.6406</td> <td>    4.987</td> <td>    1.532</td> <td> 0.126</td> <td>   -2.139</td> <td>   17.420</td>\n",
              "</tr>\n",
              "</table>\n",
              "<table class=\"simpletable\">\n",
              "<tr>\n",
              "  <th>Omnibus:</th>       <td>1062.354</td> <th>  Durbin-Watson:     </th> <td>   1.965</td>\n",
              "</tr>\n",
              "<tr>\n",
              "  <th>Prob(Omnibus):</th>  <td> 0.000</td>  <th>  Jarque-Bera (JB):  </th> <td>4551.200</td>\n",
              "</tr>\n",
              "<tr>\n",
              "  <th>Skew:</th>           <td> 1.681</td>  <th>  Prob(JB):          </th> <td>    0.00</td>\n",
              "</tr>\n",
              "<tr>\n",
              "  <th>Kurtosis:</th>       <td> 8.011</td>  <th>  Cond. No.          </th> <td>    7.88</td>\n",
              "</tr>\n",
              "</table><br/><br/>Warnings:<br/>[1] Standard Errors assume that the covariance matrix of the errors is correctly specified."
            ],
            "text/plain": [
              "<class 'statsmodels.iolib.summary.Summary'>\n",
              "\"\"\"\n",
              "                            OLS Regression Results                            \n",
              "==============================================================================\n",
              "Dep. Variable:                   wage   R-squared:                       0.062\n",
              "Model:                            OLS   Adj. R-squared:                  0.062\n",
              "Method:                 Least Squares   F-statistic:                     66.58\n",
              "Date:                Sat, 30 Oct 2021   Prob (F-statistic):           1.13e-41\n",
              "Time:                        12:45:21   Log-Likelihood:                -15353.\n",
              "No. Observations:                3000   AIC:                         3.071e+04\n",
              "Df Residuals:                    2996   BIC:                         3.074e+04\n",
              "Df Model:                           3                                         \n",
              "Covariance Type:            nonrobust                                         \n",
              "==========================================================================================================================\n",
              "                                                             coef    std err          t      P>|t|      [0.025      0.975]\n",
              "--------------------------------------------------------------------------------------------------------------------------\n",
              "Intercept                                                 94.1584      1.476     63.790      0.000      91.264      97.053\n",
              "pd.cut(age, 4)[T.Interval(33.5, 49.0, closed='right')]    24.0535      1.829     13.148      0.000      20.466      27.641\n",
              "pd.cut(age, 4)[T.Interval(49.0, 64.5, closed='right')]    23.6646      2.068     11.443      0.000      19.610      27.719\n",
              "pd.cut(age, 4)[T.Interval(64.5, 80.0, closed='right')]     7.6406      4.987      1.532      0.126      -2.139      17.420\n",
              "==============================================================================\n",
              "Omnibus:                     1062.354   Durbin-Watson:                   1.965\n",
              "Prob(Omnibus):                  0.000   Jarque-Bera (JB):             4551.200\n",
              "Skew:                           1.681   Prob(JB):                         0.00\n",
              "Kurtosis:                       8.011   Cond. No.                         7.88\n",
              "==============================================================================\n",
              "\n",
              "Warnings:\n",
              "[1] Standard Errors assume that the covariance matrix of the errors is correctly specified.\n",
              "\"\"\""
            ]
          },
          "metadata": {},
          "execution_count": 34
        }
      ]
    },
    {
      "cell_type": "markdown",
      "metadata": {
        "id": "ClkRubq1Lfsc"
      },
      "source": [
        "## **Lab: Splines**"
      ]
    },
    {
      "cell_type": "code",
      "metadata": {
        "id": "pQ88aOhtLi6_"
      },
      "source": [
        "import scipy.interpolate as si"
      ],
      "execution_count": 35,
      "outputs": []
    },
    {
      "cell_type": "code",
      "metadata": {
        "id": "lhAcGzfdLmjA"
      },
      "source": [
        "y = wage['wage'].values"
      ],
      "execution_count": 36,
      "outputs": []
    },
    {
      "cell_type": "code",
      "metadata": {
        "id": "4Fl6HS19L0Jf"
      },
      "source": [
        "order = np.argsort(x)"
      ],
      "execution_count": 37,
      "outputs": []
    },
    {
      "cell_type": "code",
      "metadata": {
        "id": "Ei7K8pNCL3lp"
      },
      "source": [
        "x_sort = x[order]\n",
        "y_sort = y[order]\n",
        "t = np.array([25, 40, 60])"
      ],
      "execution_count": 38,
      "outputs": []
    },
    {
      "cell_type": "code",
      "metadata": {
        "id": "WfZira-gL9a1"
      },
      "source": [
        "spl  = si.LSQUnivariateSpline(x_sort, y_sort, t)"
      ],
      "execution_count": 39,
      "outputs": []
    },
    {
      "cell_type": "code",
      "metadata": {
        "colab": {
          "base_uri": "https://localhost:8080/"
        },
        "id": "4OOVT318MQQ5",
        "outputId": "1da0e431-3aff-4004-e651-53da0bd33f6d"
      },
      "source": [
        "spl(x_sort)"
      ],
      "execution_count": 40,
      "outputs": [
        {
          "output_type": "execute_result",
          "data": {
            "text/plain": [
              "array([60.49371419, 60.49371419, 60.49371419, ..., 77.09985645,\n",
              "       77.09985645, 77.09985645])"
            ]
          },
          "metadata": {},
          "execution_count": 40
        }
      ]
    },
    {
      "cell_type": "code",
      "metadata": {
        "colab": {
          "base_uri": "https://localhost:8080/",
          "height": 500
        },
        "id": "RXleBzyoMSaE",
        "outputId": "2067b31c-8bd5-4ede-8a0a-c51f9b410c75"
      },
      "source": [
        "plt.figure(figsize=(10,8))\n",
        "plt.plot(x_sort, y_sort, 'ro', ms=5)\n",
        "plt.plot(x_sort, spl(x_sort), 'g-', lw=3)"
      ],
      "execution_count": 41,
      "outputs": [
        {
          "output_type": "execute_result",
          "data": {
            "text/plain": [
              "[<matplotlib.lines.Line2D at 0x7ff8c267c310>]"
            ]
          },
          "metadata": {},
          "execution_count": 41
        },
        {
          "output_type": "display_data",
          "data": {
            "image/png": "[encoded data removed]",
            "text/plain": [
              "<Figure size 720x576 with 1 Axes>"
            ]
          },
          "metadata": {
            "needs_background": "light"
          }
        }
      ]
    },
    {
      "cell_type": "markdown",
      "metadata": {
        "id": "BcJ0QmaiMubZ"
      },
      "source": [
        "## **Lab: General Additive Models in Python**\n",
        "\n",
        "Not much avaliable. Best to use R. "
      ]
    },
    {
      "cell_type": "markdown",
      "metadata": {
        "id": "AwZ8wD73M4Go"
      },
      "source": [
        "## **Excercises**"
      ]
    },
    {
      "cell_type": "markdown",
      "metadata": {
        "id": "Dy_PSRL0M6Js"
      },
      "source": [
        "### **Question One**\n",
        "\n",
        "It was mentioned in the chapter that a cubic regression apline with one knot at $\\zeta$ can be obtained using a basis of the form $x, x^{2}, x^{3}, (x - \\zeta)^{3}_{+}$, where $(x - \\zeta)^{3}_{+} = (x - \\zeta)^{3}$ if $x > \\zeta$ and equals 0 otherwise. We will now show that a function of the form:\n",
        "\n",
        "$f(x) = \\beta_{0} = \\beta_{1}x + \\beta_{2}x^{2} + \\beta_{3}x^{3} + \\beta_{4}(x - \\zeta)^{3}_{+}$\n",
        "\n",
        "is indeed a cubic regression spline, regardless of the values of $\\beta_{0}$, $\\beta_{1}$. $\\beta_{2}$, $\\beta_{3}$ or $\\beta_{4}$.\n",
        "\n",
        "A. Find a cubic polynomial \n",
        "\n",
        "$f_{1}(x) = a_{1} + b_{1}x + c_{1}x^{2} + d_{1}x^{3}$\n",
        "\n",
        "such that $f(x) = f_{1}(x)$ for all $x \\le \\zeta$. Express a_{1}, b_{1}, c_{1} and d_{1} in terms of $\\beta_{0}$, $\\beta_{1}$. $\\beta_{2}$, $\\beta_{3}$ and $\\beta_{4}$."
      ]
    },
    {
      "cell_type": "markdown",
      "metadata": {
        "id": "yYGUbxFoOu2b"
      },
      "source": [
        "**Answer:** Since $x < \\zeta$ then $a_{1} = \\beta_{0}$ and $b_{1} = \\beta_{1}$ and $c_{1} = \\beta_{2}$ and $d_{1} = \\beta_{3}$."
      ]
    },
    {
      "cell_type": "markdown",
      "metadata": {
        "id": "uSVsyAh3PCa-"
      },
      "source": [
        "B. Find the cubic polynomial\n",
        "\n",
        "$f_{2}(x) = a_{2} + b_{2}x + c_{2}x^{2} + d_{2}x^{3}$\n",
        "\n",
        "such that $f(x) = f_{2}(x)$ for all $x > \\zeta$. Express a_{2}, b_{2}, c_{2} and d_{2} in terms of $\\beta_{0}$, $\\beta_{1}$, $\\beta_{2}$, $\\beta_{3}$ and $\\beta_{4}$. We have now established that f(x) is a piecewise polynomial. \n",
        "\n"
      ]
    },
    {
      "cell_type": "markdown",
      "metadata": {
        "id": "XNqxo2B1Pq77"
      },
      "source": [
        "**Answer:** Must expand expression and group like polynomial terms. $a_{1} = \\beta_{0} - \\beta_{4}\\zeta^{3}$ and $b_{1} = \\beta_{1} + \\beta_{4}\\zeta^{2}$ and $c_{1} = \\beta_{2} - 3\\beta_{4}\\zeta$ and $d_{1} = \\beta_{3} + \\beta_{4}$."
      ]
    },
    {
      "cell_type": "markdown",
      "metadata": {
        "id": "T8Qlw1G2QOrG"
      },
      "source": [
        "C. Show that $f_{1}(\\zeta) = f_{2}(\\zeta)$. That is, f(x) is continuouse at $\\zeta$. "
      ]
    },
    {
      "cell_type": "markdown",
      "metadata": {
        "id": "IdBIU2lvQcpE"
      },
      "source": [
        "**Answer:** When $x = \\zeta$ the spline term equals 0 for both equations and thus they are equal. "
      ]
    },
    {
      "cell_type": "markdown",
      "metadata": {
        "id": "lg1kpYvsQpLP"
      },
      "source": [
        "D. Show $f_{1}^{'}(\\zeta) = f_{2}^{'}(\\zeta)$. That is, $f_{x}^{'}$ is continous at $\\zeta$. "
      ]
    },
    {
      "cell_type": "markdown",
      "metadata": {
        "id": "ucfGWztcQ-oJ"
      },
      "source": [
        "**Answer:**  If they are equal, then their derivatives must also be equal. "
      ]
    },
    {
      "cell_type": "markdown",
      "metadata": {
        "id": "tVtf-SyzRG5v"
      },
      "source": [
        "E. Show $f_{1}^{''}(\\zeta) = f_{2}^{''}(\\zeta)$. That is, $f_{x}^{''}$ is continous at $\\zeta$. "
      ]
    },
    {
      "cell_type": "markdown",
      "metadata": {
        "id": "hp5H9u4iROhr"
      },
      "source": [
        "**Answer:** If they are equal, then their derivatives must also be equal. "
      ]
    },
    {
      "cell_type": "markdown",
      "metadata": {
        "id": "5MUyNs4zRTlv"
      },
      "source": [
        "### **Question Two**\n",
        "\n",
        "Suppose that a curve $\\hat{g}$ is computed to smoothly fit a set of *n* points using the following formula:\n",
        "\n",
        "$\\hat{g} = argmin_{g}(\\sum_{i=1}^{n}(y_{i} - g(x_{i}))^{2} + \\lambda \\int[g^{(m)}(x)]^{2}x)$,\n",
        "\n",
        "where $g^{(m)}$ represents the *m*th derivative of g (and $g^{(0)} = g$). Provide example sketches of $\\hat{g}$ in each of the following scenarios. \n",
        "\n",
        "A. $\\lambda = \\infty, m = 0$"
      ]
    },
    {
      "cell_type": "markdown",
      "metadata": {
        "id": "FFSR1hsdSd_R"
      },
      "source": [
        "**Answer:** g = 0"
      ]
    },
    {
      "cell_type": "markdown",
      "metadata": {
        "id": "ynPqA5Y3SpPZ"
      },
      "source": [
        "B. $\\lambda = \\infty, m = 1$\n",
        "\n",
        "**Answer:** g = mean(y)\n",
        "\n",
        "C. $\\lambda = \\infty, m = 2$\n",
        "\n",
        "**Answer:** g = linear regression with two parameters - slope and intercept. \n",
        "\n",
        "D. $\\lambda = \\infty, m = 3$\n",
        "\n",
        "**Answer:** g = cubic term in regression with three parameters. \n",
        "\n",
        "E. $\\lambda = 0, m = 3$\n",
        "\n",
        "**Answer:** Very high dimensional function that gives nearly zero training error. "
      ]
    },
    {
      "cell_type": "markdown",
      "metadata": {
        "id": "FCc7Yi4NTLjP"
      },
      "source": [
        "### **Question Three**\n",
        "\n",
        "Suppose we fit a curve with basis functions $b_{1}(X) = X, b_{2}(X) = (X - 1)^{2}I(X \\ge 1)$.  Bote that $I(X \\ge 1)$ equals 1 for $X \\ge 1$ and 0 otherwise. We fit the linear regression model\n",
        "\n",
        "$Y = \\beta_{0} + \\beta_{1}b_{1}(X) + \\beta_{2}b_{2}(X) + \\epsilon$,\n",
        "\n",
        "and obtain coefficient estimates $\\hat{\\beta_{0}} = 1$, $\\hat{\\beta_{1}} = 1$ and $\\hat{\\beta_{2}} = -2$. Skech the esttimated curve between X = -2 and X = 2. Note the intercepts, slopes and other relevant information. "
      ]
    },
    {
      "cell_type": "code",
      "metadata": {
        "id": "rcb1an0DUDGS"
      },
      "source": [
        "x = np.linspace(-2, 2, 100)"
      ],
      "execution_count": 42,
      "outputs": []
    },
    {
      "cell_type": "code",
      "metadata": {
        "id": "VzYGVM7GUHEO"
      },
      "source": [
        "y = 1 + x + -2 * (x - 1)**2 * (x >= 1)"
      ],
      "execution_count": 43,
      "outputs": []
    },
    {
      "cell_type": "code",
      "metadata": {
        "colab": {
          "base_uri": "https://localhost:8080/",
          "height": 282
        },
        "id": "Lu6ZkjS5UNs8",
        "outputId": "b842d0e3-c654-493e-fc21-30c9190ce54d"
      },
      "source": [
        "plt.plot(x,y)"
      ],
      "execution_count": 44,
      "outputs": [
        {
          "output_type": "execute_result",
          "data": {
            "text/plain": [
              "[<matplotlib.lines.Line2D at 0x7ff8c25ea1d0>]"
            ]
          },
          "metadata": {},
          "execution_count": 44
        },
        {
          "output_type": "display_data",
          "data": {
            "image/png": "[encoded data removed]",
            "text/plain": [
              "<Figure size 432x288 with 1 Axes>"
            ]
          },
          "metadata": {
            "needs_background": "light"
          }
        }
      ]
    },
    {
      "cell_type": "markdown",
      "metadata": {
        "id": "FiOpNl9aUP_U"
      },
      "source": [
        "### **Question Four**\n",
        "\n",
        "Suppose we fit a curve with basis functions $b_{1}(X) = I(0 \\le X \\le 2) - (X - 1)I(1 \\le X \\le 2)$, $b_{2}(X) = (X - 3)I(3 \\le X \\le 4) + I(4 < X \\le 5$. We fit the linear regression model\n",
        "\n",
        "$Y = \\beta_{0} + \\beta_{1}b_{1}(X) + \\beta_{2}b_{2}(X) + \\epsilon$,\n",
        "\n",
        "and obtain the coefficient estimates $\\hat{\\beta_{0}} = 1$, $\\hat{\\beta_{1}} = 1$ and $\\hat{\\beta_{0}} = 3$. Sketch the estimated curve between X = -2 and X = 2. Note the intercepts, slopes and other relevant information. \n"
      ]
    },
    {
      "cell_type": "code",
      "metadata": {
        "id": "bKdSSa9sVKEx"
      },
      "source": [
        "b1_1 = (0 <= x) & (x <= 2)\n",
        "b1_2 = (1 <= x) & (x <= 2)\n",
        "b2_1 = (3 <= x) & (x <= 4)\n",
        "b2_2 = (4 < x) & (x <= 5)"
      ],
      "execution_count": 45,
      "outputs": []
    },
    {
      "cell_type": "code",
      "metadata": {
        "id": "gi_nJhifVaqy"
      },
      "source": [
        "y = 1 + b1_1 - (x - 1) * b1_2 + (x - 3) * b2_1 + b2_2"
      ],
      "execution_count": 46,
      "outputs": []
    },
    {
      "cell_type": "code",
      "metadata": {
        "colab": {
          "base_uri": "https://localhost:8080/",
          "height": 282
        },
        "id": "s3gT9H--VkHB",
        "outputId": "3ca0e89d-4926-4de3-fecc-32574bcdec63"
      },
      "source": [
        "plt.plot(x, y)"
      ],
      "execution_count": 47,
      "outputs": [
        {
          "output_type": "execute_result",
          "data": {
            "text/plain": [
              "[<matplotlib.lines.Line2D at 0x7ff8c2558a10>]"
            ]
          },
          "metadata": {},
          "execution_count": 47
        },
        {
          "output_type": "display_data",
          "data": {
            "image/png": "[encoded data removed]",
            "text/plain": [
              "<Figure size 432x288 with 1 Axes>"
            ]
          },
          "metadata": {
            "needs_background": "light"
          }
        }
      ]
    },
    {
      "cell_type": "markdown",
      "metadata": {
        "id": "v73mKZTtVtyp"
      },
      "source": [
        "### **Question Five**\n",
        "\n",
        "Consider two cirves $\\hat{g_{1}}$ and $\\hat{g_{2}}$, defined by \n",
        "\n",
        "$\\hat{g_{1}} =  argmin_{g}(\\sum_{i=1}^{n}(y_{i} - g(x_{i}))^{2} + \\lambda \\int[g^{(3)}(x)]^{2}x)$,\n",
        "\n",
        "$\\hat{g_{2}} =  argmin_{g}(\\sum_{i=1}^{n}(y_{i} - g(x_{i}))^{2} + \\lambda \\int[g^{(4)}(x)]^{2}x)$, \n",
        "\n",
        "where $g^{(m)}$ represents the *m*th derivative of *g*. \n",
        "\n",
        "A. As $\\lambda \\rightarrow \\infty$, will $\\hat{g_{1}}$ or $\\hat{g_{2}}$ have the smaller training RSS?"
      ]
    },
    {
      "cell_type": "markdown",
      "metadata": {
        "id": "kTdp4-hiWnU9"
      },
      "source": [
        "**Answer:** $\\hat{g_{2}}$ will have the smaller training error since it is allowing more flexibility. It can have up to a cubic model. $\\hat{g_{1}}$ will be limited to a quadratic model as $\\lambda$ approaches infinity. \n",
        "\n",
        "B. As $\\lambda \\rightarrow \\infty$, will $\\hat{g_{1}}$ or $\\hat{g_{2}}$ have the smaller test RSS?\n",
        "\n",
        "**Answer:** Can't tell which model will have smaller test error this depends on the 'true' relationship between x and y. \n",
        "\n",
        "C. For $\\lambda = 0$, will $\\hat{g_{1}}$ or $\\hat{g_{2}}$ have the smaller training and test RSS?\n",
        "\n",
        "**Answer:** $\\hat{g_{1}}$ and $\\hat{g_{2}}$ will be the same model if there is no penalty."
      ]
    },
    {
      "cell_type": "markdown",
      "metadata": {
        "id": "q2iJyqiiXW8K"
      },
      "source": [
        "### **Question Six**\n",
        "\n",
        "In this exercise, you will further analyze the `Wage` dataset. \n",
        "\n",
        "A. Perform polynomial regression to predict `wage` using `age`. Use cross-validation to select the optimal degree *d* for the polynomial. What degree was chosen, and how does this compare to the results of hypothesis testing using ANOVA? Make the plot of the resulting polynomial fit to the data. "
      ]
    },
    {
      "cell_type": "code",
      "metadata": {
        "id": "FhT0ljgQXu8G"
      },
      "source": [
        "from sklearn.pipeline import Pipeline\n",
        "from sklearn.preprocessing import PolynomialFeatures\n",
        "from sklearn.linear_model import LinearRegression\n",
        "from sklearn import model_selection"
      ],
      "execution_count": 48,
      "outputs": []
    },
    {
      "cell_type": "code",
      "metadata": {
        "id": "rEPg9p1xYBpr"
      },
      "source": [
        "degrees = range(1,11)\n",
        "X = wage[['age']]\n",
        "y = wage['wage']\n",
        "final_scores = []\n",
        "\n",
        "for degree in degrees:\n",
        "  polynomial_features = PolynomialFeatures(degree=degree, include_bias=False)\n",
        "  linear_regression = LinearRegression()\n",
        "  pipeline = Pipeline([(\"polynomial_features\", polynomial_features), (\"linear_regression\", linear_regression)])\n",
        "  scores = model_selection.cross_val_score(pipeline, X, y, cv=10, scoring=\"neg_mean_squared_error\")\n",
        "  final_scores.append(-np.mean(scores))"
      ],
      "execution_count": 49,
      "outputs": []
    },
    {
      "cell_type": "code",
      "metadata": {
        "colab": {
          "base_uri": "https://localhost:8080/",
          "height": 282
        },
        "id": "xeK1TkfxYqs6",
        "outputId": "b1e18da1-7588-47c2-d9a2-ccfd93302390"
      },
      "source": [
        "# Degree 3 chosen through 10-fold CV\n",
        "plt.plot(degrees, final_scores)"
      ],
      "execution_count": 50,
      "outputs": [
        {
          "output_type": "execute_result",
          "data": {
            "text/plain": [
              "[<matplotlib.lines.Line2D at 0x7ff8c24e9c10>]"
            ]
          },
          "metadata": {},
          "execution_count": 50
        },
        {
          "output_type": "display_data",
          "data": {
            "image/png": "[encoded data removed]",
            "text/plain": [
              "<Figure size 432x288 with 1 Axes>"
            ]
          },
          "metadata": {
            "needs_background": "light"
          }
        }
      ]
    },
    {
      "cell_type": "code",
      "metadata": {
        "id": "YPOTLPaIYyME"
      },
      "source": [
        "# Compare to anova: already done above. More evidence that 4th and 5th degree polynomial are not needed "
      ],
      "execution_count": 51,
      "outputs": []
    },
    {
      "cell_type": "code",
      "metadata": {
        "colab": {
          "base_uri": "https://localhost:8080/"
        },
        "id": "jCO6krt1Y6Tc",
        "outputId": "21bfcba8-7cdf-4826-e8df-9f56c2893f90"
      },
      "source": [
        "polynomial_features = PolynomialFeatures(degree = 3, include_bias=False)\n",
        "linear_regression.fit(polynomial_features.fit_transform(X), y)"
      ],
      "execution_count": 52,
      "outputs": [
        {
          "output_type": "execute_result",
          "data": {
            "text/plain": [
              "LinearRegression(copy_X=True, fit_intercept=True, n_jobs=None, normalize=False)"
            ]
          },
          "metadata": {},
          "execution_count": 52
        }
      ]
    },
    {
      "cell_type": "code",
      "metadata": {
        "id": "DQEUSaPcZHAy"
      },
      "source": [
        "x = np.linspace(X.values.min(), X.values.max(), 1000)"
      ],
      "execution_count": 53,
      "outputs": []
    },
    {
      "cell_type": "code",
      "metadata": {
        "colab": {
          "base_uri": "https://localhost:8080/",
          "height": 282
        },
        "id": "ae5vYMKvZMOA",
        "outputId": "0ed87b83-3e55-4e1c-acd9-4b708d7c4de0"
      },
      "source": [
        "plt.scatter(X,y)\n",
        "plt.plot(x, linear_regression.predict(polynomial_features.fit_transform(x.reshape(-1, 1))), c='r', lw=3)"
      ],
      "execution_count": 54,
      "outputs": [
        {
          "output_type": "execute_result",
          "data": {
            "text/plain": [
              "[<matplotlib.lines.Line2D at 0x7ff8c2458dd0>]"
            ]
          },
          "metadata": {},
          "execution_count": 54
        },
        {
          "output_type": "display_data",
          "data": {
            "image/png": "[encoded data removed]",
            "text/plain": [
              "<Figure size 432x288 with 1 Axes>"
            ]
          },
          "metadata": {
            "needs_background": "light"
          }
        }
      ]
    },
    {
      "cell_type": "markdown",
      "metadata": {
        "id": "4HDArSj9Zhuw"
      },
      "source": [
        "B. Fit a step function to predict `wage` using `age`, and perform cross-validation to choose the optimal number of cuts. Make a plot of the fit obtained. "
      ]
    },
    {
      "cell_type": "code",
      "metadata": {
        "id": "aV0K8BKu8dJO"
      },
      "source": [
        "cuts = range(1,41)\n",
        "X = wage[['age']]\n",
        "y = wage['wage']\n",
        "final_scores = []\n",
        "\n",
        "for cut in cuts:\n",
        "  X_new = pd.get_dummies(pd.cut(X['age'], cut)).values\n",
        "  linear_regression = LinearRegression(fit_intercept=False)\n",
        "  scores = model_selection.cross_val_score(linear_regression, X_new, y, cv=10, scoring='neg_mean_squared_error')\n",
        "  final_scores.append(-np.mean(scores))"
      ],
      "execution_count": 55,
      "outputs": []
    },
    {
      "cell_type": "code",
      "metadata": {
        "colab": {
          "base_uri": "https://localhost:8080/",
          "height": 282
        },
        "id": "4cOL5i7O9Aqq",
        "outputId": "77cc15a7-5ecf-4462-c730-2e7df62a438f"
      },
      "source": [
        "# Looks like error stops getting better after 7 cuts\n",
        "plt.plot(cuts, final_scores)"
      ],
      "execution_count": 56,
      "outputs": [
        {
          "output_type": "execute_result",
          "data": {
            "text/plain": [
              "[<matplotlib.lines.Line2D at 0x7ff8c23dd290>]"
            ]
          },
          "metadata": {},
          "execution_count": 56
        },
        {
          "output_type": "display_data",
          "data": {
            "image/png": "[encoded data removed]",
            "text/plain": [
              "<Figure size 432x288 with 1 Axes>"
            ]
          },
          "metadata": {
            "needs_background": "light"
          }
        }
      ]
    },
    {
      "cell_type": "code",
      "metadata": {
        "colab": {
          "base_uri": "https://localhost:8080/",
          "height": 282
        },
        "id": "VavpQTSg9I9D",
        "outputId": "4771eac3-88c0-4ea4-ac13-0ad1c37d76d6"
      },
      "source": [
        "X_new = pd.get_dummies(pd.cut(X['age'], 7)).values\n",
        "linear_regression = LinearRegression(fit_intercept=False)\n",
        "linear_regression.fit(X_new, y)\n",
        "plt.scatter(X,y)\n",
        "order = np.argsort(X['age'])\n",
        "plt.plot(X['age'].values[order], linear_regression.predict(X_new[order]), c='r', lw=3)"
      ],
      "execution_count": 57,
      "outputs": [
        {
          "output_type": "execute_result",
          "data": {
            "text/plain": [
              "[<matplotlib.lines.Line2D at 0x7ff8c2349fd0>]"
            ]
          },
          "metadata": {},
          "execution_count": 57
        },
        {
          "output_type": "display_data",
          "data": {
            "image/png": "[encoded data removed]",
            "text/plain": [
              "<Figure size 432x288 with 1 Axes>"
            ]
          },
          "metadata": {
            "needs_background": "light"
          }
        }
      ]
    },
    {
      "cell_type": "markdown",
      "metadata": {
        "id": "GfNOv9oz9mJK"
      },
      "source": [
        "### **Question Seven**\n",
        "\n",
        "The `Wage` dataset contains a number of other features not explored in this chapter, such as marital status (`marital`), job class (`jobclass`), and others. Explore the relationships between some of these other predictors and `wage`, and use non-linear fitting techniques in order to fit flexible models to the data. Create plots of the results obtained, and write a summary of your findings. "
      ]
    },
    {
      "cell_type": "code",
      "metadata": {
        "id": "k6TRxXK1-tiq"
      },
      "source": [
        "wage = pd.read_csv(\"https://raw.githubusercontent.com/emredjan/ISL-python/master/datasets/Wage.csv\")"
      ],
      "execution_count": 58,
      "outputs": []
    },
    {
      "cell_type": "code",
      "metadata": {
        "colab": {
          "base_uri": "https://localhost:8080/",
          "height": 204
        },
        "id": "BoetrT9V-ELe",
        "outputId": "e0e25755-4a9e-403f-e424-6c4f1e5c1d57"
      },
      "source": [
        "wage[['maritl', 'jobclass']].head()"
      ],
      "execution_count": 59,
      "outputs": [
        {
          "output_type": "execute_result",
          "data": {
            "text/html": [
              "<div>\n",
              "<style scoped>\n",
              "    .dataframe tbody tr th:only-of-type {\n",
              "        vertical-align: middle;\n",
              "    }\n",
              "\n",
              "    .dataframe tbody tr th {\n",
              "        vertical-align: top;\n",
              "    }\n",
              "\n",
              "    .dataframe thead th {\n",
              "        text-align: right;\n",
              "    }\n",
              "</style>\n",
              "<table border=\"1\" class=\"dataframe\">\n",
              "  <thead>\n",
              "    <tr style=\"text-align: right;\">\n",
              "      <th></th>\n",
              "      <th>maritl</th>\n",
              "      <th>jobclass</th>\n",
              "    </tr>\n",
              "  </thead>\n",
              "  <tbody>\n",
              "    <tr>\n",
              "      <th>0</th>\n",
              "      <td>1. Never Married</td>\n",
              "      <td>1. Industrial</td>\n",
              "    </tr>\n",
              "    <tr>\n",
              "      <th>1</th>\n",
              "      <td>1. Never Married</td>\n",
              "      <td>2. Information</td>\n",
              "    </tr>\n",
              "    <tr>\n",
              "      <th>2</th>\n",
              "      <td>2. Married</td>\n",
              "      <td>1. Industrial</td>\n",
              "    </tr>\n",
              "    <tr>\n",
              "      <th>3</th>\n",
              "      <td>2. Married</td>\n",
              "      <td>2. Information</td>\n",
              "    </tr>\n",
              "    <tr>\n",
              "      <th>4</th>\n",
              "      <td>4. Divorced</td>\n",
              "      <td>2. Information</td>\n",
              "    </tr>\n",
              "  </tbody>\n",
              "</table>\n",
              "</div>"
            ],
            "text/plain": [
              "             maritl        jobclass\n",
              "0  1. Never Married   1. Industrial\n",
              "1  1. Never Married  2. Information\n",
              "2        2. Married   1. Industrial\n",
              "3        2. Married  2. Information\n",
              "4       4. Divorced  2. Information"
            ]
          },
          "metadata": {},
          "execution_count": 59
        }
      ]
    },
    {
      "cell_type": "code",
      "metadata": {
        "id": "Ktcrof6h-OPK"
      },
      "source": [
        "X = pd.get_dummies(wage[['maritl', 'jobclass']], drop_first=False)\n",
        "y = wage['wage']"
      ],
      "execution_count": 60,
      "outputs": []
    },
    {
      "cell_type": "code",
      "metadata": {
        "colab": {
          "base_uri": "https://localhost:8080/",
          "height": 204
        },
        "id": "rrIgjQgT-Y8p",
        "outputId": "53a069e5-3803-453e-c151-857927ea972f"
      },
      "source": [
        "X.head()"
      ],
      "execution_count": 61,
      "outputs": [
        {
          "output_type": "execute_result",
          "data": {
            "text/html": [
              "<div>\n",
              "<style scoped>\n",
              "    .dataframe tbody tr th:only-of-type {\n",
              "        vertical-align: middle;\n",
              "    }\n",
              "\n",
              "    .dataframe tbody tr th {\n",
              "        vertical-align: top;\n",
              "    }\n",
              "\n",
              "    .dataframe thead th {\n",
              "        text-align: right;\n",
              "    }\n",
              "</style>\n",
              "<table border=\"1\" class=\"dataframe\">\n",
              "  <thead>\n",
              "    <tr style=\"text-align: right;\">\n",
              "      <th></th>\n",
              "      <th>maritl_1. Never Married</th>\n",
              "      <th>maritl_2. Married</th>\n",
              "      <th>maritl_3. Widowed</th>\n",
              "      <th>maritl_4. Divorced</th>\n",
              "      <th>maritl_5. Separated</th>\n",
              "      <th>jobclass_1. Industrial</th>\n",
              "      <th>jobclass_2. Information</th>\n",
              "    </tr>\n",
              "  </thead>\n",
              "  <tbody>\n",
              "    <tr>\n",
              "      <th>0</th>\n",
              "      <td>1</td>\n",
              "      <td>0</td>\n",
              "      <td>0</td>\n",
              "      <td>0</td>\n",
              "      <td>0</td>\n",
              "      <td>1</td>\n",
              "      <td>0</td>\n",
              "    </tr>\n",
              "    <tr>\n",
              "      <th>1</th>\n",
              "      <td>1</td>\n",
              "      <td>0</td>\n",
              "      <td>0</td>\n",
              "      <td>0</td>\n",
              "      <td>0</td>\n",
              "      <td>0</td>\n",
              "      <td>1</td>\n",
              "    </tr>\n",
              "    <tr>\n",
              "      <th>2</th>\n",
              "      <td>0</td>\n",
              "      <td>1</td>\n",
              "      <td>0</td>\n",
              "      <td>0</td>\n",
              "      <td>0</td>\n",
              "      <td>1</td>\n",
              "      <td>0</td>\n",
              "    </tr>\n",
              "    <tr>\n",
              "      <th>3</th>\n",
              "      <td>0</td>\n",
              "      <td>1</td>\n",
              "      <td>0</td>\n",
              "      <td>0</td>\n",
              "      <td>0</td>\n",
              "      <td>0</td>\n",
              "      <td>1</td>\n",
              "    </tr>\n",
              "    <tr>\n",
              "      <th>4</th>\n",
              "      <td>0</td>\n",
              "      <td>0</td>\n",
              "      <td>0</td>\n",
              "      <td>1</td>\n",
              "      <td>0</td>\n",
              "      <td>0</td>\n",
              "      <td>1</td>\n",
              "    </tr>\n",
              "  </tbody>\n",
              "</table>\n",
              "</div>"
            ],
            "text/plain": [
              "   maritl_1. Never Married  ...  jobclass_2. Information\n",
              "0                        1  ...                        0\n",
              "1                        1  ...                        1\n",
              "2                        0  ...                        0\n",
              "3                        0  ...                        1\n",
              "4                        0  ...                        1\n",
              "\n",
              "[5 rows x 7 columns]"
            ]
          },
          "metadata": {},
          "execution_count": 61
        }
      ]
    },
    {
      "cell_type": "code",
      "metadata": {
        "colab": {
          "base_uri": "https://localhost:8080/"
        },
        "id": "z_3FmiW5-cbb",
        "outputId": "f93d04b7-a6b3-4fc9-c105-7dbe84e993a3"
      },
      "source": [
        "linear_regression = LinearRegression(fit_intercept=True)\n",
        "linear_regression.fit(X, y)"
      ],
      "execution_count": 62,
      "outputs": [
        {
          "output_type": "execute_result",
          "data": {
            "text/plain": [
              "LinearRegression(copy_X=True, fit_intercept=True, n_jobs=None, normalize=False)"
            ]
          },
          "metadata": {},
          "execution_count": 62
        }
      ]
    },
    {
      "cell_type": "code",
      "metadata": {
        "colab": {
          "base_uri": "https://localhost:8080/"
        },
        "id": "0INWubXd-lmk",
        "outputId": "ba156a4a-bd14-479c-e902-9c65f2ef099c"
      },
      "source": [
        "linear_regression.coef_"
      ],
      "execution_count": 63,
      "outputs": [
        {
          "output_type": "execute_result",
          "data": {
            "text/plain": [
              "array([ 6.40519198e+14,  6.40519198e+14,  6.40519198e+14,  6.40519198e+14,\n",
              "        6.40519198e+14, -2.75162551e+13, -2.75162551e+13])"
            ]
          },
          "metadata": {},
          "execution_count": 63
        }
      ]
    },
    {
      "cell_type": "code",
      "metadata": {
        "colab": {
          "base_uri": "https://localhost:8080/"
        },
        "id": "3TDg0jrH-oiR",
        "outputId": "fe6bc41c-b69a-4af2-fd68-b182fcb4fb02"
      },
      "source": [
        "linear_regression.intercept_"
      ],
      "execution_count": 64,
      "outputs": [
        {
          "output_type": "execute_result",
          "data": {
            "text/plain": [
              "-613002943380219.6"
            ]
          },
          "metadata": {},
          "execution_count": 64
        }
      ]
    },
    {
      "cell_type": "code",
      "metadata": {
        "id": "qJgSaY4e-nxj"
      },
      "source": [
        "import statsmodels.api as smf"
      ],
      "execution_count": 65,
      "outputs": []
    },
    {
      "cell_type": "code",
      "metadata": {
        "colab": {
          "base_uri": "https://localhost:8080/",
          "height": 583
        },
        "id": "QH4g2urv_DCL",
        "outputId": "a782d5dc-de0b-4a73-87b3-fe61aea143d9"
      },
      "source": [
        "results_orig = smf.OLS(y, X).fit()\n",
        "results_orig.summary()"
      ],
      "execution_count": 66,
      "outputs": [
        {
          "output_type": "execute_result",
          "data": {
            "text/html": [
              "<table class=\"simpletable\">\n",
              "<caption>OLS Regression Results</caption>\n",
              "<tr>\n",
              "  <th>Dep. Variable:</th>          <td>wage</td>       <th>  R-squared:         </th> <td>   0.109</td> \n",
              "</tr>\n",
              "<tr>\n",
              "  <th>Model:</th>                   <td>OLS</td>       <th>  Adj. R-squared:    </th> <td>   0.107</td> \n",
              "</tr>\n",
              "<tr>\n",
              "  <th>Method:</th>             <td>Least Squares</td>  <th>  F-statistic:       </th> <td>   72.98</td> \n",
              "</tr>\n",
              "<tr>\n",
              "  <th>Date:</th>             <td>Sat, 30 Oct 2021</td> <th>  Prob (F-statistic):</th> <td>2.67e-72</td> \n",
              "</tr>\n",
              "<tr>\n",
              "  <th>Time:</th>                 <td>12:46:01</td>     <th>  Log-Likelihood:    </th> <td> -15277.</td> \n",
              "</tr>\n",
              "<tr>\n",
              "  <th>No. Observations:</th>      <td>  3000</td>      <th>  AIC:               </th> <td>3.057e+04</td>\n",
              "</tr>\n",
              "<tr>\n",
              "  <th>Df Residuals:</th>          <td>  2994</td>      <th>  BIC:               </th> <td>3.060e+04</td>\n",
              "</tr>\n",
              "<tr>\n",
              "  <th>Df Model:</th>              <td>     5</td>      <th>                     </th>     <td> </td>    \n",
              "</tr>\n",
              "<tr>\n",
              "  <th>Covariance Type:</th>      <td>nonrobust</td>    <th>                     </th>     <td> </td>    \n",
              "</tr>\n",
              "</table>\n",
              "<table class=\"simpletable\">\n",
              "<tr>\n",
              "             <td></td>                <th>coef</th>     <th>std err</th>      <th>t</th>      <th>P>|t|</th>  <th>[0.025</th>    <th>0.975]</th>  \n",
              "</tr>\n",
              "<tr>\n",
              "  <th>maritl_1. Never Married</th> <td>   19.5438</td> <td>    2.045</td> <td>    9.557</td> <td> 0.000</td> <td>   15.534</td> <td>   23.553</td>\n",
              "</tr>\n",
              "<tr>\n",
              "  <th>maritl_2. Married</th>       <td>   44.8996</td> <td>    1.733</td> <td>   25.911</td> <td> 0.000</td> <td>   41.502</td> <td>   48.297</td>\n",
              "</tr>\n",
              "<tr>\n",
              "  <th>maritl_3. Widowed</th>       <td>   27.6804</td> <td>    7.806</td> <td>    3.546</td> <td> 0.000</td> <td>   12.374</td> <td>   42.987</td>\n",
              "</tr>\n",
              "<tr>\n",
              "  <th>maritl_4. Divorced</th>      <td>   29.2079</td> <td>    2.813</td> <td>   10.385</td> <td> 0.000</td> <td>   23.693</td> <td>   34.723</td>\n",
              "</tr>\n",
              "<tr>\n",
              "  <th>maritl_5. Separated</th>     <td>   26.7328</td> <td>    4.761</td> <td>    5.616</td> <td> 0.000</td> <td>   17.399</td> <td>   36.067</td>\n",
              "</tr>\n",
              "<tr>\n",
              "  <th>jobclass_1. Industrial</th>  <td>   65.7707</td> <td>    1.714</td> <td>   38.368</td> <td> 0.000</td> <td>   62.410</td> <td>   69.132</td>\n",
              "</tr>\n",
              "<tr>\n",
              "  <th>jobclass_2. Information</th> <td>   82.2939</td> <td>    1.742</td> <td>   47.228</td> <td> 0.000</td> <td>   78.877</td> <td>   85.710</td>\n",
              "</tr>\n",
              "</table>\n",
              "<table class=\"simpletable\">\n",
              "<tr>\n",
              "  <th>Omnibus:</th>       <td>1049.154</td> <th>  Durbin-Watson:     </th> <td>   1.967</td>\n",
              "</tr>\n",
              "<tr>\n",
              "  <th>Prob(Omnibus):</th>  <td> 0.000</td>  <th>  Jarque-Bera (JB):  </th> <td>4551.093</td>\n",
              "</tr>\n",
              "<tr>\n",
              "  <th>Skew:</th>           <td> 1.652</td>  <th>  Prob(JB):          </th> <td>    0.00</td>\n",
              "</tr>\n",
              "<tr>\n",
              "  <th>Kurtosis:</th>       <td> 8.049</td>  <th>  Cond. No.          </th> <td>1.23e+15</td>\n",
              "</tr>\n",
              "</table><br/><br/>Warnings:<br/>[1] Standard Errors assume that the covariance matrix of the errors is correctly specified.<br/>[2] The smallest eigenvalue is 2.2e-27. This might indicate that there are<br/>strong multicollinearity problems or that the design matrix is singular."
            ],
            "text/plain": [
              "<class 'statsmodels.iolib.summary.Summary'>\n",
              "\"\"\"\n",
              "                            OLS Regression Results                            \n",
              "==============================================================================\n",
              "Dep. Variable:                   wage   R-squared:                       0.109\n",
              "Model:                            OLS   Adj. R-squared:                  0.107\n",
              "Method:                 Least Squares   F-statistic:                     72.98\n",
              "Date:                Sat, 30 Oct 2021   Prob (F-statistic):           2.67e-72\n",
              "Time:                        12:46:01   Log-Likelihood:                -15277.\n",
              "No. Observations:                3000   AIC:                         3.057e+04\n",
              "Df Residuals:                    2994   BIC:                         3.060e+04\n",
              "Df Model:                           5                                         \n",
              "Covariance Type:            nonrobust                                         \n",
              "===========================================================================================\n",
              "                              coef    std err          t      P>|t|      [0.025      0.975]\n",
              "-------------------------------------------------------------------------------------------\n",
              "maritl_1. Never Married    19.5438      2.045      9.557      0.000      15.534      23.553\n",
              "maritl_2. Married          44.8996      1.733     25.911      0.000      41.502      48.297\n",
              "maritl_3. Widowed          27.6804      7.806      3.546      0.000      12.374      42.987\n",
              "maritl_4. Divorced         29.2079      2.813     10.385      0.000      23.693      34.723\n",
              "maritl_5. Separated        26.7328      4.761      5.616      0.000      17.399      36.067\n",
              "jobclass_1. Industrial     65.7707      1.714     38.368      0.000      62.410      69.132\n",
              "jobclass_2. Information    82.2939      1.742     47.228      0.000      78.877      85.710\n",
              "==============================================================================\n",
              "Omnibus:                     1049.154   Durbin-Watson:                   1.967\n",
              "Prob(Omnibus):                  0.000   Jarque-Bera (JB):             4551.093\n",
              "Skew:                           1.652   Prob(JB):                         0.00\n",
              "Kurtosis:                       8.049   Cond. No.                     1.23e+15\n",
              "==============================================================================\n",
              "\n",
              "Warnings:\n",
              "[1] Standard Errors assume that the covariance matrix of the errors is correctly specified.\n",
              "[2] The smallest eigenvalue is 2.2e-27. This might indicate that there are\n",
              "strong multicollinearity problems or that the design matrix is singular.\n",
              "\"\"\""
            ]
          },
          "metadata": {},
          "execution_count": 66
        }
      ]
    },
    {
      "cell_type": "code",
      "metadata": {
        "colab": {
          "base_uri": "https://localhost:8080/"
        },
        "id": "RS9Lj0_7_sG0",
        "outputId": "ec63c3b6-823e-45d1-c136-8c5d74c2cdcb"
      },
      "source": [
        "wage[(wage['jobclass'] == '2. Information') & (wage['maritl'] == '3. Widowed')]['wage'].mean() "
      ],
      "execution_count": 67,
      "outputs": [
        {
          "output_type": "execute_result",
          "data": {
            "text/plain": [
              "97.10906713345983"
            ]
          },
          "metadata": {},
          "execution_count": 67
        }
      ]
    },
    {
      "cell_type": "code",
      "metadata": {
        "colab": {
          "base_uri": "https://localhost:8080/"
        },
        "id": "bdPBUoZqABGP",
        "outputId": "3b7ae0fe-78b1-42c6-828b-23e68510d3ad"
      },
      "source": [
        "wage[wage['maritl'] == '1. Never Married']['wage'].mean()"
      ],
      "execution_count": 68,
      "outputs": [
        {
          "output_type": "execute_result",
          "data": {
            "text/plain": [
              "92.73464859222041"
            ]
          },
          "metadata": {},
          "execution_count": 68
        }
      ]
    },
    {
      "cell_type": "code",
      "metadata": {
        "colab": {
          "base_uri": "https://localhost:8080/"
        },
        "id": "2uyGbryRAML4",
        "outputId": "2dac0fe1-5cae-4f2b-ce79-d6beb7e7b400"
      },
      "source": [
        "wage[wage['jobclass']  == '1. Industrial']['wage'].mean()"
      ],
      "execution_count": 69,
      "outputs": [
        {
          "output_type": "execute_result",
          "data": {
            "text/plain": [
              "103.32112881497488"
            ]
          },
          "metadata": {},
          "execution_count": 69
        }
      ]
    },
    {
      "cell_type": "code",
      "metadata": {
        "colab": {
          "base_uri": "https://localhost:8080/"
        },
        "id": "kTgf9bbLAYWM",
        "outputId": "c8d75945-33fa-46c7-d2ea-2efb1a00d232"
      },
      "source": [
        "wage[wage['jobclass'] == '2. Information']['wage'].mean()"
      ],
      "execution_count": 70,
      "outputs": [
        {
          "output_type": "execute_result",
          "data": {
            "text/plain": [
              "120.59272095804255"
            ]
          },
          "metadata": {},
          "execution_count": 70
        }
      ]
    },
    {
      "cell_type": "code",
      "metadata": {
        "colab": {
          "base_uri": "https://localhost:8080/"
        },
        "id": "v2ue8ZSEAgAI",
        "outputId": "86576b35-73fb-4af2-dd8d-f747606fb7b2"
      },
      "source": [
        "wage['jobclass'].value_counts()"
      ],
      "execution_count": 71,
      "outputs": [
        {
          "output_type": "execute_result",
          "data": {
            "text/plain": [
              "1. Industrial     1544\n",
              "2. Information    1456\n",
              "Name: jobclass, dtype: int64"
            ]
          },
          "metadata": {},
          "execution_count": 71
        }
      ]
    },
    {
      "cell_type": "code",
      "metadata": {
        "colab": {
          "base_uri": "https://localhost:8080/"
        },
        "id": "VJTFHkFOAngI",
        "outputId": "a91cb4f9-a78c-44f1-ac37-1ddbd97bb74e"
      },
      "source": [
        "wage[(wage['jobclass'] == '2. Information') & (wage['maritl'] == '3. Widowed')]['wage'].mean()"
      ],
      "execution_count": 72,
      "outputs": [
        {
          "output_type": "execute_result",
          "data": {
            "text/plain": [
              "97.10906713345983"
            ]
          },
          "metadata": {},
          "execution_count": 72
        }
      ]
    },
    {
      "cell_type": "code",
      "metadata": {
        "colab": {
          "base_uri": "https://localhost:8080/"
        },
        "id": "bUV8Y_eAA8Hp",
        "outputId": "5d42314c-7192-446d-f140-9719f5893e75"
      },
      "source": [
        "27.6 + 82.3"
      ],
      "execution_count": 73,
      "outputs": [
        {
          "output_type": "execute_result",
          "data": {
            "text/plain": [
              "109.9"
            ]
          },
          "metadata": {},
          "execution_count": 73
        }
      ]
    },
    {
      "cell_type": "code",
      "metadata": {
        "id": "6xE_LYC9A_e-"
      },
      "source": [
        "X = pd.get_dummies(wage['maritl'] + ' ' + wage['jobclass'])\n",
        "y = wage['wage']"
      ],
      "execution_count": 74,
      "outputs": []
    },
    {
      "cell_type": "code",
      "metadata": {
        "colab": {
          "base_uri": "https://localhost:8080/",
          "height": 612
        },
        "id": "eUmY5etyBNJO",
        "outputId": "932501cc-3de1-4666-b3d6-67ef1cc80936"
      },
      "source": [
        "results = smf.OLS(y, X).fit()\n",
        "results.summary()"
      ],
      "execution_count": 75,
      "outputs": [
        {
          "output_type": "execute_result",
          "data": {
            "text/html": [
              "<table class=\"simpletable\">\n",
              "<caption>OLS Regression Results</caption>\n",
              "<tr>\n",
              "  <th>Dep. Variable:</th>          <td>wage</td>       <th>  R-squared:         </th> <td>   0.110</td> \n",
              "</tr>\n",
              "<tr>\n",
              "  <th>Model:</th>                   <td>OLS</td>       <th>  Adj. R-squared:    </th> <td>   0.107</td> \n",
              "</tr>\n",
              "<tr>\n",
              "  <th>Method:</th>             <td>Least Squares</td>  <th>  F-statistic:       </th> <td>   40.91</td> \n",
              "</tr>\n",
              "<tr>\n",
              "  <th>Date:</th>             <td>Sat, 30 Oct 2021</td> <th>  Prob (F-statistic):</th> <td>1.97e-69</td> \n",
              "</tr>\n",
              "<tr>\n",
              "  <th>Time:</th>                 <td>12:46:01</td>     <th>  Log-Likelihood:    </th> <td> -15276.</td> \n",
              "</tr>\n",
              "<tr>\n",
              "  <th>No. Observations:</th>      <td>  3000</td>      <th>  AIC:               </th> <td>3.057e+04</td>\n",
              "</tr>\n",
              "<tr>\n",
              "  <th>Df Residuals:</th>          <td>  2990</td>      <th>  BIC:               </th> <td>3.063e+04</td>\n",
              "</tr>\n",
              "<tr>\n",
              "  <th>Df Model:</th>              <td>     9</td>      <th>                     </th>     <td> </td>    \n",
              "</tr>\n",
              "<tr>\n",
              "  <th>Covariance Type:</th>      <td>nonrobust</td>    <th>                     </th>     <td> </td>    \n",
              "</tr>\n",
              "</table>\n",
              "<table class=\"simpletable\">\n",
              "<tr>\n",
              "                 <td></td>                    <th>coef</th>     <th>std err</th>      <th>t</th>      <th>P>|t|</th>  <th>[0.025</th>    <th>0.975]</th>  \n",
              "</tr>\n",
              "<tr>\n",
              "  <th>1. Never Married 1. Industrial</th>  <td>   84.6314</td> <td>    2.087</td> <td>   40.551</td> <td> 0.000</td> <td>   80.539</td> <td>   88.724</td>\n",
              "</tr>\n",
              "<tr>\n",
              "  <th>1. Never Married 2. Information</th> <td>  102.6758</td> <td>    2.312</td> <td>   44.417</td> <td> 0.000</td> <td>   98.143</td> <td>  107.208</td>\n",
              "</tr>\n",
              "<tr>\n",
              "  <th>2. Married 1. Industrial</th>        <td>  110.5215</td> <td>    1.219</td> <td>   90.645</td> <td> 0.000</td> <td>  108.131</td> <td>  112.912</td>\n",
              "</tr>\n",
              "<tr>\n",
              "  <th>2. Married 2. Information</th>       <td>  127.3450</td> <td>    1.230</td> <td>  103.541</td> <td> 0.000</td> <td>  124.933</td> <td>  129.757</td>\n",
              "</tr>\n",
              "<tr>\n",
              "  <th>3. Widowed 1. Industrial</th>        <td>  100.9559</td> <td>   11.384</td> <td>    8.869</td> <td> 0.000</td> <td>   78.636</td> <td>  123.276</td>\n",
              "</tr>\n",
              "<tr>\n",
              "  <th>3. Widowed 2. Information</th>       <td>   97.1091</td> <td>   14.905</td> <td>    6.515</td> <td> 0.000</td> <td>   67.885</td> <td>  126.333</td>\n",
              "</tr>\n",
              "<tr>\n",
              "  <th>4. Divorced 1. Industrial</th>       <td>   96.1082</td> <td>    3.886</td> <td>   24.735</td> <td> 0.000</td> <td>   88.490</td> <td>  103.727</td>\n",
              "</tr>\n",
              "<tr>\n",
              "  <th>4. Divorced 2. Information</th>      <td>  110.3500</td> <td>    3.924</td> <td>   28.123</td> <td> 0.000</td> <td>  102.656</td> <td>  118.044</td>\n",
              "</tr>\n",
              "<tr>\n",
              "  <th>5. Separated 1. Industrial</th>      <td>   99.9341</td> <td>    7.734</td> <td>   12.922</td> <td> 0.000</td> <td>   84.770</td> <td>  115.098</td>\n",
              "</tr>\n",
              "<tr>\n",
              "  <th>5. Separated 2. Information</th>     <td>  102.3649</td> <td>    7.323</td> <td>   13.979</td> <td> 0.000</td> <td>   88.007</td> <td>  116.723</td>\n",
              "</tr>\n",
              "</table>\n",
              "<table class=\"simpletable\">\n",
              "<tr>\n",
              "  <th>Omnibus:</th>       <td>1050.722</td> <th>  Durbin-Watson:     </th> <td>   1.964</td>\n",
              "</tr>\n",
              "<tr>\n",
              "  <th>Prob(Omnibus):</th>  <td> 0.000</td>  <th>  Jarque-Bera (JB):  </th> <td>4572.814</td>\n",
              "</tr>\n",
              "<tr>\n",
              "  <th>Skew:</th>           <td> 1.654</td>  <th>  Prob(JB):          </th> <td>    0.00</td>\n",
              "</tr>\n",
              "<tr>\n",
              "  <th>Kurtosis:</th>       <td> 8.064</td>  <th>  Cond. No.          </th> <td>    12.2</td>\n",
              "</tr>\n",
              "</table><br/><br/>Warnings:<br/>[1] Standard Errors assume that the covariance matrix of the errors is correctly specified."
            ],
            "text/plain": [
              "<class 'statsmodels.iolib.summary.Summary'>\n",
              "\"\"\"\n",
              "                            OLS Regression Results                            \n",
              "==============================================================================\n",
              "Dep. Variable:                   wage   R-squared:                       0.110\n",
              "Model:                            OLS   Adj. R-squared:                  0.107\n",
              "Method:                 Least Squares   F-statistic:                     40.91\n",
              "Date:                Sat, 30 Oct 2021   Prob (F-statistic):           1.97e-69\n",
              "Time:                        12:46:01   Log-Likelihood:                -15276.\n",
              "No. Observations:                3000   AIC:                         3.057e+04\n",
              "Df Residuals:                    2990   BIC:                         3.063e+04\n",
              "Df Model:                           9                                         \n",
              "Covariance Type:            nonrobust                                         \n",
              "===================================================================================================\n",
              "                                      coef    std err          t      P>|t|      [0.025      0.975]\n",
              "---------------------------------------------------------------------------------------------------\n",
              "1. Never Married 1. Industrial     84.6314      2.087     40.551      0.000      80.539      88.724\n",
              "1. Never Married 2. Information   102.6758      2.312     44.417      0.000      98.143     107.208\n",
              "2. Married 1. Industrial          110.5215      1.219     90.645      0.000     108.131     112.912\n",
              "2. Married 2. Information         127.3450      1.230    103.541      0.000     124.933     129.757\n",
              "3. Widowed 1. Industrial          100.9559     11.384      8.869      0.000      78.636     123.276\n",
              "3. Widowed 2. Information          97.1091     14.905      6.515      0.000      67.885     126.333\n",
              "4. Divorced 1. Industrial          96.1082      3.886     24.735      0.000      88.490     103.727\n",
              "4. Divorced 2. Information        110.3500      3.924     28.123      0.000     102.656     118.044\n",
              "5. Separated 1. Industrial         99.9341      7.734     12.922      0.000      84.770     115.098\n",
              "5. Separated 2. Information       102.3649      7.323     13.979      0.000      88.007     116.723\n",
              "==============================================================================\n",
              "Omnibus:                     1050.722   Durbin-Watson:                   1.964\n",
              "Prob(Omnibus):                  0.000   Jarque-Bera (JB):             4572.814\n",
              "Skew:                           1.654   Prob(JB):                         0.00\n",
              "Kurtosis:                       8.064   Cond. No.                         12.2\n",
              "==============================================================================\n",
              "\n",
              "Warnings:\n",
              "[1] Standard Errors assume that the covariance matrix of the errors is correctly specified.\n",
              "\"\"\""
            ]
          },
          "metadata": {},
          "execution_count": 75
        }
      ]
    },
    {
      "cell_type": "code",
      "metadata": {
        "colab": {
          "base_uri": "https://localhost:8080/"
        },
        "id": "291Q25DcBUvD",
        "outputId": "c148986a-efaf-4dde-973e-115bf7fa8939"
      },
      "source": [
        "wage[(wage['jobclass'] == '2. Information') & (wage['maritl'] == '3. Widowed')]['wage'].mean()"
      ],
      "execution_count": 76,
      "outputs": [
        {
          "output_type": "execute_result",
          "data": {
            "text/plain": [
              "97.10906713345983"
            ]
          },
          "metadata": {},
          "execution_count": 76
        }
      ]
    },
    {
      "cell_type": "code",
      "metadata": {
        "colab": {
          "base_uri": "https://localhost:8080/"
        },
        "id": "uMNCsY4dBtql",
        "outputId": "6ceba3c7-d2f5-4738-f79c-4ef117eb065b"
      },
      "source": [
        "results.predict([0, 0, 0, 0, 0, 0, 0, 1, 0, 0])"
      ],
      "execution_count": 77,
      "outputs": [
        {
          "output_type": "execute_result",
          "data": {
            "text/plain": [
              "array([110.3499553])"
            ]
          },
          "metadata": {},
          "execution_count": 77
        }
      ]
    },
    {
      "cell_type": "code",
      "metadata": {
        "colab": {
          "base_uri": "https://localhost:8080/"
        },
        "id": "795XQ55fB0uh",
        "outputId": "526f4866-8d48-4c16-be3d-d6e857e56a7b"
      },
      "source": [
        "results_orig.predict([0, 0, 0, 1, 0, 1, 0])"
      ],
      "execution_count": 78,
      "outputs": [
        {
          "output_type": "execute_result",
          "data": {
            "text/plain": [
              "array([94.9786814])"
            ]
          },
          "metadata": {},
          "execution_count": 78
        }
      ]
    }
  ]
}